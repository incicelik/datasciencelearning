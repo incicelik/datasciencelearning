{
 "cells": [
  {
   "cell_type": "markdown",
   "id": "833f56e4",
   "metadata": {
    "_cell_guid": "b1076dfc-b9ad-4769-8c92-a6c4dae69d19",
    "_uuid": "8f2839f25d086af736a60e9eeb907d3b93b6e0e5",
    "papermill": {
     "duration": 0.056713,
     "end_time": "2022-02-21T19:36:48.512187",
     "exception": false,
     "start_time": "2022-02-21T19:36:48.455474",
     "status": "completed"
    },
    "tags": []
   },
   "source": [
    "# Rule Based Classification (Client Segmentation)"
   ]
  },
  {
   "cell_type": "markdown",
   "id": "a6ba99be",
   "metadata": {
    "papermill": {
     "duration": 0.054644,
     "end_time": "2022-02-21T19:36:48.624953",
     "exception": false,
     "start_time": "2022-02-21T19:36:48.570309",
     "status": "completed"
    },
    "tags": []
   },
   "source": [
    "**Business Need:**\n",
    "A game company wants to create client segments based on price information.  \n",
    "So the company can estimates the average revenue from each client segment using this basic model.\n",
    "E.g.: How much does this company earn from each type of personas in average? (from a 25 year old male client in Brazil?)\n",
    "\n",
    "\"Persona\" dataset contains price and clients' demographic information. Each row represents a sale record."
   ]
  },
  {
   "cell_type": "markdown",
   "id": "9f14c148",
   "metadata": {
    "papermill": {
     "duration": 0.05541,
     "end_time": "2022-02-21T19:36:48.735567",
     "exception": false,
     "start_time": "2022-02-21T19:36:48.680157",
     "status": "completed"
    },
    "tags": []
   },
   "source": [
    "**Variables:**\n",
    "\n",
    "* PRICE – How much client spent on\n",
    "* SOURCE – Type of operation system\n",
    "* SEX – Client's gender\n",
    "* COUNTRY – Client's country\n",
    "* AGE – Client's age"
   ]
  },
  {
   "cell_type": "markdown",
   "id": "86f43f9d",
   "metadata": {
    "papermill": {
     "duration": 0.055569,
     "end_time": "2022-02-21T19:36:48.845913",
     "exception": false,
     "start_time": "2022-02-21T19:36:48.790344",
     "status": "completed"
    },
    "tags": []
   },
   "source": [
    "**Section 1 : Describe the data (basic information)**"
   ]
  },
  {
   "cell_type": "code",
   "execution_count": 1,
   "id": "f3936709",
   "metadata": {
    "execution": {
     "iopub.execute_input": "2022-02-21T19:36:48.962466Z",
     "iopub.status.busy": "2022-02-21T19:36:48.961304Z",
     "iopub.status.idle": "2022-02-21T19:36:48.969604Z",
     "shell.execute_reply": "2022-02-21T19:36:48.970082Z",
     "shell.execute_reply.started": "2022-02-21T18:40:30.704448Z"
    },
    "papermill": {
     "duration": 0.068576,
     "end_time": "2022-02-21T19:36:48.970381",
     "exception": false,
     "start_time": "2022-02-21T19:36:48.901805",
     "status": "completed"
    },
    "tags": []
   },
   "outputs": [],
   "source": [
    "import numpy as np\n",
    "import pandas as pd"
   ]
  },
  {
   "cell_type": "code",
   "execution_count": 2,
   "id": "8f3c68f4",
   "metadata": {
    "execution": {
     "iopub.execute_input": "2022-02-21T19:36:49.086387Z",
     "iopub.status.busy": "2022-02-21T19:36:49.085715Z",
     "iopub.status.idle": "2022-02-21T19:36:49.107256Z",
     "shell.execute_reply": "2022-02-21T19:36:49.107749Z",
     "shell.execute_reply.started": "2022-02-21T18:41:02.797965Z"
    },
    "papermill": {
     "duration": 0.081575,
     "end_time": "2022-02-21T19:36:49.107936",
     "exception": false,
     "start_time": "2022-02-21T19:36:49.026361",
     "status": "completed"
    },
    "tags": []
   },
   "outputs": [],
   "source": [
    "df = pd.read_csv(\"../input/persona/week_02_data.csv\")"
   ]
  },
  {
   "cell_type": "code",
   "execution_count": 3,
   "id": "ff63eac9",
   "metadata": {
    "execution": {
     "iopub.execute_input": "2022-02-21T19:36:49.222566Z",
     "iopub.status.busy": "2022-02-21T19:36:49.221556Z",
     "iopub.status.idle": "2022-02-21T19:36:49.242188Z",
     "shell.execute_reply": "2022-02-21T19:36:49.242749Z",
     "shell.execute_reply.started": "2022-02-21T18:40:30.780581Z"
    },
    "papermill": {
     "duration": 0.079887,
     "end_time": "2022-02-21T19:36:49.242948",
     "exception": false,
     "start_time": "2022-02-21T19:36:49.163061",
     "status": "completed"
    },
    "tags": []
   },
   "outputs": [
    {
     "data": {
      "text/html": [
       "<div>\n",
       "<style scoped>\n",
       "    .dataframe tbody tr th:only-of-type {\n",
       "        vertical-align: middle;\n",
       "    }\n",
       "\n",
       "    .dataframe tbody tr th {\n",
       "        vertical-align: top;\n",
       "    }\n",
       "\n",
       "    .dataframe thead th {\n",
       "        text-align: right;\n",
       "    }\n",
       "</style>\n",
       "<table border=\"1\" class=\"dataframe\">\n",
       "  <thead>\n",
       "    <tr style=\"text-align: right;\">\n",
       "      <th></th>\n",
       "      <th>PRICE</th>\n",
       "      <th>SOURCE</th>\n",
       "      <th>SEX</th>\n",
       "      <th>COUNTRY</th>\n",
       "      <th>AGE</th>\n",
       "    </tr>\n",
       "  </thead>\n",
       "  <tbody>\n",
       "    <tr>\n",
       "      <th>0</th>\n",
       "      <td>39</td>\n",
       "      <td>android</td>\n",
       "      <td>male</td>\n",
       "      <td>bra</td>\n",
       "      <td>17</td>\n",
       "    </tr>\n",
       "    <tr>\n",
       "      <th>1</th>\n",
       "      <td>39</td>\n",
       "      <td>android</td>\n",
       "      <td>male</td>\n",
       "      <td>bra</td>\n",
       "      <td>17</td>\n",
       "    </tr>\n",
       "    <tr>\n",
       "      <th>2</th>\n",
       "      <td>49</td>\n",
       "      <td>android</td>\n",
       "      <td>male</td>\n",
       "      <td>bra</td>\n",
       "      <td>17</td>\n",
       "    </tr>\n",
       "    <tr>\n",
       "      <th>3</th>\n",
       "      <td>29</td>\n",
       "      <td>android</td>\n",
       "      <td>male</td>\n",
       "      <td>tur</td>\n",
       "      <td>17</td>\n",
       "    </tr>\n",
       "    <tr>\n",
       "      <th>4</th>\n",
       "      <td>49</td>\n",
       "      <td>android</td>\n",
       "      <td>male</td>\n",
       "      <td>tur</td>\n",
       "      <td>17</td>\n",
       "    </tr>\n",
       "  </tbody>\n",
       "</table>\n",
       "</div>"
      ],
      "text/plain": [
       "   PRICE   SOURCE   SEX COUNTRY  AGE\n",
       "0     39  android  male     bra   17\n",
       "1     39  android  male     bra   17\n",
       "2     49  android  male     bra   17\n",
       "3     29  android  male     tur   17\n",
       "4     49  android  male     tur   17"
      ]
     },
     "execution_count": 3,
     "metadata": {},
     "output_type": "execute_result"
    }
   ],
   "source": [
    "df.head() # top 5 rows"
   ]
  },
  {
   "cell_type": "code",
   "execution_count": 4,
   "id": "e687c481",
   "metadata": {
    "execution": {
     "iopub.execute_input": "2022-02-21T19:36:49.368277Z",
     "iopub.status.busy": "2022-02-21T19:36:49.367345Z",
     "iopub.status.idle": "2022-02-21T19:36:49.370862Z",
     "shell.execute_reply": "2022-02-21T19:36:49.371364Z",
     "shell.execute_reply.started": "2022-02-21T18:40:30.813625Z"
    },
    "papermill": {
     "duration": 0.070309,
     "end_time": "2022-02-21T19:36:49.371535",
     "exception": false,
     "start_time": "2022-02-21T19:36:49.301226",
     "status": "completed"
    },
    "tags": []
   },
   "outputs": [
    {
     "data": {
      "text/html": [
       "<div>\n",
       "<style scoped>\n",
       "    .dataframe tbody tr th:only-of-type {\n",
       "        vertical-align: middle;\n",
       "    }\n",
       "\n",
       "    .dataframe tbody tr th {\n",
       "        vertical-align: top;\n",
       "    }\n",
       "\n",
       "    .dataframe thead th {\n",
       "        text-align: right;\n",
       "    }\n",
       "</style>\n",
       "<table border=\"1\" class=\"dataframe\">\n",
       "  <thead>\n",
       "    <tr style=\"text-align: right;\">\n",
       "      <th></th>\n",
       "      <th>PRICE</th>\n",
       "      <th>SOURCE</th>\n",
       "      <th>SEX</th>\n",
       "      <th>COUNTRY</th>\n",
       "      <th>AGE</th>\n",
       "    </tr>\n",
       "  </thead>\n",
       "  <tbody>\n",
       "    <tr>\n",
       "      <th>4995</th>\n",
       "      <td>29</td>\n",
       "      <td>android</td>\n",
       "      <td>female</td>\n",
       "      <td>bra</td>\n",
       "      <td>31</td>\n",
       "    </tr>\n",
       "    <tr>\n",
       "      <th>4996</th>\n",
       "      <td>29</td>\n",
       "      <td>android</td>\n",
       "      <td>female</td>\n",
       "      <td>bra</td>\n",
       "      <td>31</td>\n",
       "    </tr>\n",
       "    <tr>\n",
       "      <th>4997</th>\n",
       "      <td>29</td>\n",
       "      <td>android</td>\n",
       "      <td>female</td>\n",
       "      <td>bra</td>\n",
       "      <td>31</td>\n",
       "    </tr>\n",
       "    <tr>\n",
       "      <th>4998</th>\n",
       "      <td>39</td>\n",
       "      <td>android</td>\n",
       "      <td>female</td>\n",
       "      <td>bra</td>\n",
       "      <td>31</td>\n",
       "    </tr>\n",
       "    <tr>\n",
       "      <th>4999</th>\n",
       "      <td>29</td>\n",
       "      <td>android</td>\n",
       "      <td>female</td>\n",
       "      <td>bra</td>\n",
       "      <td>31</td>\n",
       "    </tr>\n",
       "  </tbody>\n",
       "</table>\n",
       "</div>"
      ],
      "text/plain": [
       "      PRICE   SOURCE     SEX COUNTRY  AGE\n",
       "4995     29  android  female     bra   31\n",
       "4996     29  android  female     bra   31\n",
       "4997     29  android  female     bra   31\n",
       "4998     39  android  female     bra   31\n",
       "4999     29  android  female     bra   31"
      ]
     },
     "execution_count": 4,
     "metadata": {},
     "output_type": "execute_result"
    }
   ],
   "source": [
    "df.tail() # latest 5 rows"
   ]
  },
  {
   "cell_type": "code",
   "execution_count": 5,
   "id": "3142f608",
   "metadata": {
    "execution": {
     "iopub.execute_input": "2022-02-21T19:36:49.487841Z",
     "iopub.status.busy": "2022-02-21T19:36:49.486863Z",
     "iopub.status.idle": "2022-02-21T19:36:49.492659Z",
     "shell.execute_reply": "2022-02-21T19:36:49.493199Z",
     "shell.execute_reply.started": "2022-02-21T18:40:30.828662Z"
    },
    "papermill": {
     "duration": 0.065461,
     "end_time": "2022-02-21T19:36:49.493367",
     "exception": false,
     "start_time": "2022-02-21T19:36:49.427906",
     "status": "completed"
    },
    "tags": []
   },
   "outputs": [
    {
     "data": {
      "text/plain": [
       "(5000, 5)"
      ]
     },
     "execution_count": 5,
     "metadata": {},
     "output_type": "execute_result"
    }
   ],
   "source": [
    "df.shape # shape of the data (n.of cases and variables)"
   ]
  },
  {
   "cell_type": "code",
   "execution_count": 6,
   "id": "cbea7c12",
   "metadata": {
    "execution": {
     "iopub.execute_input": "2022-02-21T19:36:49.610193Z",
     "iopub.status.busy": "2022-02-21T19:36:49.609202Z",
     "iopub.status.idle": "2022-02-21T19:36:49.635358Z",
     "shell.execute_reply": "2022-02-21T19:36:49.635991Z",
     "shell.execute_reply.started": "2022-02-21T18:40:30.842978Z"
    },
    "papermill": {
     "duration": 0.086281,
     "end_time": "2022-02-21T19:36:49.636169",
     "exception": false,
     "start_time": "2022-02-21T19:36:49.549888",
     "status": "completed"
    },
    "tags": []
   },
   "outputs": [
    {
     "name": "stdout",
     "output_type": "stream",
     "text": [
      "<class 'pandas.core.frame.DataFrame'>\n",
      "Int64Index: 5000 entries, 0 to 4999\n",
      "Data columns (total 5 columns):\n",
      " #   Column   Non-Null Count  Dtype \n",
      "---  ------   --------------  ----- \n",
      " 0   PRICE    5000 non-null   int64 \n",
      " 1   SOURCE   5000 non-null   object\n",
      " 2   SEX      5000 non-null   object\n",
      " 3   COUNTRY  5000 non-null   object\n",
      " 4   AGE      5000 non-null   int64 \n",
      "dtypes: int64(2), object(3)\n",
      "memory usage: 234.4+ KB\n"
     ]
    }
   ],
   "source": [
    "df.info() # each variables and their data types"
   ]
  },
  {
   "cell_type": "code",
   "execution_count": 7,
   "id": "990f5e54",
   "metadata": {
    "execution": {
     "iopub.execute_input": "2022-02-21T19:36:49.757308Z",
     "iopub.status.busy": "2022-02-21T19:36:49.756618Z",
     "iopub.status.idle": "2022-02-21T19:36:49.761311Z",
     "shell.execute_reply": "2022-02-21T19:36:49.761919Z",
     "shell.execute_reply.started": "2022-02-21T18:40:30.887606Z"
    },
    "papermill": {
     "duration": 0.06748,
     "end_time": "2022-02-21T19:36:49.762095",
     "exception": false,
     "start_time": "2022-02-21T19:36:49.694615",
     "status": "completed"
    },
    "tags": []
   },
   "outputs": [
    {
     "data": {
      "text/plain": [
       "Index(['PRICE', 'SOURCE', 'SEX', 'COUNTRY', 'AGE'], dtype='object')"
      ]
     },
     "execution_count": 7,
     "metadata": {},
     "output_type": "execute_result"
    }
   ],
   "source": [
    "df.columns # name of columns"
   ]
  },
  {
   "cell_type": "code",
   "execution_count": 8,
   "id": "539f5d1a",
   "metadata": {
    "execution": {
     "iopub.execute_input": "2022-02-21T19:36:49.881459Z",
     "iopub.status.busy": "2022-02-21T19:36:49.880776Z",
     "iopub.status.idle": "2022-02-21T19:36:49.885795Z",
     "shell.execute_reply": "2022-02-21T19:36:49.886288Z",
     "shell.execute_reply.started": "2022-02-21T18:40:30.898530Z"
    },
    "papermill": {
     "duration": 0.066465,
     "end_time": "2022-02-21T19:36:49.886457",
     "exception": false,
     "start_time": "2022-02-21T19:36:49.819992",
     "status": "completed"
    },
    "tags": []
   },
   "outputs": [
    {
     "data": {
      "text/plain": [
       "Int64Index([   0,    1,    2,    3,    4,    5,    6,    7,    8,    9,\n",
       "            ...\n",
       "            4990, 4991, 4992, 4993, 4994, 4995, 4996, 4997, 4998, 4999],\n",
       "           dtype='int64', length=5000)"
      ]
     },
     "execution_count": 8,
     "metadata": {},
     "output_type": "execute_result"
    }
   ],
   "source": [
    "df.index # index numbers of each case in the data"
   ]
  },
  {
   "cell_type": "code",
   "execution_count": 9,
   "id": "f29c4df1",
   "metadata": {
    "execution": {
     "iopub.execute_input": "2022-02-21T19:36:50.007645Z",
     "iopub.status.busy": "2022-02-21T19:36:50.006950Z",
     "iopub.status.idle": "2022-02-21T19:36:50.032229Z",
     "shell.execute_reply": "2022-02-21T19:36:50.032880Z",
     "shell.execute_reply.started": "2022-02-21T18:40:30.912213Z"
    },
    "papermill": {
     "duration": 0.087411,
     "end_time": "2022-02-21T19:36:50.033060",
     "exception": false,
     "start_time": "2022-02-21T19:36:49.945649",
     "status": "completed"
    },
    "tags": []
   },
   "outputs": [
    {
     "data": {
      "text/html": [
       "<div>\n",
       "<style scoped>\n",
       "    .dataframe tbody tr th:only-of-type {\n",
       "        vertical-align: middle;\n",
       "    }\n",
       "\n",
       "    .dataframe tbody tr th {\n",
       "        vertical-align: top;\n",
       "    }\n",
       "\n",
       "    .dataframe thead th {\n",
       "        text-align: right;\n",
       "    }\n",
       "</style>\n",
       "<table border=\"1\" class=\"dataframe\">\n",
       "  <thead>\n",
       "    <tr style=\"text-align: right;\">\n",
       "      <th></th>\n",
       "      <th>count</th>\n",
       "      <th>mean</th>\n",
       "      <th>std</th>\n",
       "      <th>min</th>\n",
       "      <th>25%</th>\n",
       "      <th>50%</th>\n",
       "      <th>75%</th>\n",
       "      <th>max</th>\n",
       "    </tr>\n",
       "  </thead>\n",
       "  <tbody>\n",
       "    <tr>\n",
       "      <th>PRICE</th>\n",
       "      <td>5000.0</td>\n",
       "      <td>34.1320</td>\n",
       "      <td>12.464897</td>\n",
       "      <td>9.0</td>\n",
       "      <td>29.0</td>\n",
       "      <td>39.0</td>\n",
       "      <td>39.0</td>\n",
       "      <td>59.0</td>\n",
       "    </tr>\n",
       "    <tr>\n",
       "      <th>AGE</th>\n",
       "      <td>5000.0</td>\n",
       "      <td>23.5814</td>\n",
       "      <td>8.995908</td>\n",
       "      <td>15.0</td>\n",
       "      <td>17.0</td>\n",
       "      <td>21.0</td>\n",
       "      <td>27.0</td>\n",
       "      <td>66.0</td>\n",
       "    </tr>\n",
       "  </tbody>\n",
       "</table>\n",
       "</div>"
      ],
      "text/plain": [
       "        count     mean        std   min   25%   50%   75%   max\n",
       "PRICE  5000.0  34.1320  12.464897   9.0  29.0  39.0  39.0  59.0\n",
       "AGE    5000.0  23.5814   8.995908  15.0  17.0  21.0  27.0  66.0"
      ]
     },
     "execution_count": 9,
     "metadata": {},
     "output_type": "execute_result"
    }
   ],
   "source": [
    "df.describe().T # descriptive information of numerical variables. \n",
    "# basic description of price and age"
   ]
  },
  {
   "cell_type": "code",
   "execution_count": 10,
   "id": "a3a96e80",
   "metadata": {
    "execution": {
     "iopub.execute_input": "2022-02-21T19:36:50.165664Z",
     "iopub.status.busy": "2022-02-21T19:36:50.164463Z",
     "iopub.status.idle": "2022-02-21T19:36:50.167851Z",
     "shell.execute_reply": "2022-02-21T19:36:50.168361Z",
     "shell.execute_reply.started": "2022-02-21T18:40:30.949538Z"
    },
    "papermill": {
     "duration": 0.076184,
     "end_time": "2022-02-21T19:36:50.168536",
     "exception": false,
     "start_time": "2022-02-21T19:36:50.092352",
     "status": "completed"
    },
    "tags": []
   },
   "outputs": [
    {
     "data": {
      "text/plain": [
       "False"
      ]
     },
     "execution_count": 10,
     "metadata": {},
     "output_type": "execute_result"
    }
   ],
   "source": [
    "df.isnull().values.any() # Is there any null values?\n",
    "# No missing values"
   ]
  },
  {
   "cell_type": "markdown",
   "id": "d3be2c8d",
   "metadata": {
    "papermill": {
     "duration": 0.059093,
     "end_time": "2022-02-21T19:36:50.295438",
     "exception": false,
     "start_time": "2022-02-21T19:36:50.236345",
     "status": "completed"
    },
    "tags": []
   },
   "source": [
    "**Section 2 : Number of unique sources and their frequencies.**"
   ]
  },
  {
   "cell_type": "code",
   "execution_count": 11,
   "id": "6998ee53",
   "metadata": {
    "execution": {
     "iopub.execute_input": "2022-02-21T19:36:50.416775Z",
     "iopub.status.busy": "2022-02-21T19:36:50.416136Z",
     "iopub.status.idle": "2022-02-21T19:36:50.422025Z",
     "shell.execute_reply": "2022-02-21T19:36:50.422601Z",
     "shell.execute_reply.started": "2022-02-21T18:40:30.960968Z"
    },
    "papermill": {
     "duration": 0.068374,
     "end_time": "2022-02-21T19:36:50.422772",
     "exception": false,
     "start_time": "2022-02-21T19:36:50.354398",
     "status": "completed"
    },
    "tags": []
   },
   "outputs": [
    {
     "data": {
      "text/plain": [
       "2"
      ]
     },
     "execution_count": 11,
     "metadata": {},
     "output_type": "execute_result"
    }
   ],
   "source": [
    "df[\"SOURCE\"].nunique() # there are 2 unique sources"
   ]
  },
  {
   "cell_type": "code",
   "execution_count": 12,
   "id": "4e100834",
   "metadata": {
    "execution": {
     "iopub.execute_input": "2022-02-21T19:36:50.545054Z",
     "iopub.status.busy": "2022-02-21T19:36:50.544388Z",
     "iopub.status.idle": "2022-02-21T19:36:50.555826Z",
     "shell.execute_reply": "2022-02-21T19:36:50.556475Z",
     "shell.execute_reply.started": "2022-02-21T18:40:30.979021Z"
    },
    "papermill": {
     "duration": 0.074284,
     "end_time": "2022-02-21T19:36:50.556672",
     "exception": false,
     "start_time": "2022-02-21T19:36:50.482388",
     "status": "completed"
    },
    "tags": []
   },
   "outputs": [
    {
     "data": {
      "text/html": [
       "<div>\n",
       "<style scoped>\n",
       "    .dataframe tbody tr th:only-of-type {\n",
       "        vertical-align: middle;\n",
       "    }\n",
       "\n",
       "    .dataframe tbody tr th {\n",
       "        vertical-align: top;\n",
       "    }\n",
       "\n",
       "    .dataframe thead th {\n",
       "        text-align: right;\n",
       "    }\n",
       "</style>\n",
       "<table border=\"1\" class=\"dataframe\">\n",
       "  <thead>\n",
       "    <tr style=\"text-align: right;\">\n",
       "      <th></th>\n",
       "      <th>SOURCE</th>\n",
       "    </tr>\n",
       "    <tr>\n",
       "      <th>SOURCE</th>\n",
       "      <th></th>\n",
       "    </tr>\n",
       "  </thead>\n",
       "  <tbody>\n",
       "    <tr>\n",
       "      <th>android</th>\n",
       "      <td>2974</td>\n",
       "    </tr>\n",
       "    <tr>\n",
       "      <th>ios</th>\n",
       "      <td>2026</td>\n",
       "    </tr>\n",
       "  </tbody>\n",
       "</table>\n",
       "</div>"
      ],
      "text/plain": [
       "         SOURCE\n",
       "SOURCE         \n",
       "android    2974\n",
       "ios        2026"
      ]
     },
     "execution_count": 12,
     "metadata": {},
     "output_type": "execute_result"
    }
   ],
   "source": [
    "df.groupby([\"SOURCE\"]).agg({\"SOURCE\":\n",
    "                                \"count\"})"
   ]
  },
  {
   "cell_type": "markdown",
   "id": "c6ecbb62",
   "metadata": {
    "execution": {
     "iopub.execute_input": "2022-02-21T14:57:27.131259Z",
     "iopub.status.busy": "2022-02-21T14:57:27.130315Z",
     "iopub.status.idle": "2022-02-21T14:57:27.148249Z",
     "shell.execute_reply": "2022-02-21T14:57:27.146875Z",
     "shell.execute_reply.started": "2022-02-21T14:57:27.131212Z"
    },
    "papermill": {
     "duration": 0.05921,
     "end_time": "2022-02-21T19:36:50.676422",
     "exception": false,
     "start_time": "2022-02-21T19:36:50.617212",
     "status": "completed"
    },
    "tags": []
   },
   "source": [
    "**Section 3: Number of unique Prices.**"
   ]
  },
  {
   "cell_type": "code",
   "execution_count": 13,
   "id": "44a40098",
   "metadata": {
    "execution": {
     "iopub.execute_input": "2022-02-21T19:36:50.800697Z",
     "iopub.status.busy": "2022-02-21T19:36:50.800039Z",
     "iopub.status.idle": "2022-02-21T19:36:50.805540Z",
     "shell.execute_reply": "2022-02-21T19:36:50.806198Z",
     "shell.execute_reply.started": "2022-02-21T18:40:30.997155Z"
    },
    "papermill": {
     "duration": 0.069527,
     "end_time": "2022-02-21T19:36:50.806373",
     "exception": false,
     "start_time": "2022-02-21T19:36:50.736846",
     "status": "completed"
    },
    "tags": []
   },
   "outputs": [
    {
     "data": {
      "text/plain": [
       "6"
      ]
     },
     "execution_count": 13,
     "metadata": {},
     "output_type": "execute_result"
    }
   ],
   "source": [
    "df[\"PRICE\"].nunique() # 6 different prices are applied"
   ]
  },
  {
   "cell_type": "markdown",
   "id": "f532d3e1",
   "metadata": {
    "execution": {
     "iopub.execute_input": "2022-02-21T14:59:25.067553Z",
     "iopub.status.busy": "2022-02-21T14:59:25.067218Z",
     "iopub.status.idle": "2022-02-21T14:59:25.072248Z",
     "shell.execute_reply": "2022-02-21T14:59:25.071130Z",
     "shell.execute_reply.started": "2022-02-21T14:59:25.067521Z"
    },
    "papermill": {
     "duration": 0.059953,
     "end_time": "2022-02-21T19:36:50.927482",
     "exception": false,
     "start_time": "2022-02-21T19:36:50.867529",
     "status": "completed"
    },
    "tags": []
   },
   "source": [
    "**Section 4: Count of each unique PRICE**"
   ]
  },
  {
   "cell_type": "code",
   "execution_count": 14,
   "id": "3cc453ed",
   "metadata": {
    "execution": {
     "iopub.execute_input": "2022-02-21T19:36:51.055685Z",
     "iopub.status.busy": "2022-02-21T19:36:51.055026Z",
     "iopub.status.idle": "2022-02-21T19:36:51.065408Z",
     "shell.execute_reply": "2022-02-21T19:36:51.064854Z",
     "shell.execute_reply.started": "2022-02-21T18:40:31.008411Z"
    },
    "papermill": {
     "duration": 0.075484,
     "end_time": "2022-02-21T19:36:51.065556",
     "exception": false,
     "start_time": "2022-02-21T19:36:50.990072",
     "status": "completed"
    },
    "tags": []
   },
   "outputs": [
    {
     "data": {
      "text/html": [
       "<div>\n",
       "<style scoped>\n",
       "    .dataframe tbody tr th:only-of-type {\n",
       "        vertical-align: middle;\n",
       "    }\n",
       "\n",
       "    .dataframe tbody tr th {\n",
       "        vertical-align: top;\n",
       "    }\n",
       "\n",
       "    .dataframe thead th {\n",
       "        text-align: right;\n",
       "    }\n",
       "</style>\n",
       "<table border=\"1\" class=\"dataframe\">\n",
       "  <thead>\n",
       "    <tr style=\"text-align: right;\">\n",
       "      <th></th>\n",
       "      <th>PRICE</th>\n",
       "    </tr>\n",
       "    <tr>\n",
       "      <th>PRICE</th>\n",
       "      <th></th>\n",
       "    </tr>\n",
       "  </thead>\n",
       "  <tbody>\n",
       "    <tr>\n",
       "      <th>9</th>\n",
       "      <td>200</td>\n",
       "    </tr>\n",
       "    <tr>\n",
       "      <th>19</th>\n",
       "      <td>992</td>\n",
       "    </tr>\n",
       "    <tr>\n",
       "      <th>29</th>\n",
       "      <td>1305</td>\n",
       "    </tr>\n",
       "    <tr>\n",
       "      <th>39</th>\n",
       "      <td>1260</td>\n",
       "    </tr>\n",
       "    <tr>\n",
       "      <th>49</th>\n",
       "      <td>1031</td>\n",
       "    </tr>\n",
       "    <tr>\n",
       "      <th>59</th>\n",
       "      <td>212</td>\n",
       "    </tr>\n",
       "  </tbody>\n",
       "</table>\n",
       "</div>"
      ],
      "text/plain": [
       "       PRICE\n",
       "PRICE       \n",
       "9        200\n",
       "19       992\n",
       "29      1305\n",
       "39      1260\n",
       "49      1031\n",
       "59       212"
      ]
     },
     "execution_count": 14,
     "metadata": {},
     "output_type": "execute_result"
    }
   ],
   "source": [
    "df.groupby([\"PRICE\"]).agg({\"PRICE\":\n",
    "                                \"count\"})"
   ]
  },
  {
   "cell_type": "markdown",
   "id": "5db8f446",
   "metadata": {
    "execution": {
     "iopub.execute_input": "2022-02-21T15:00:12.724255Z",
     "iopub.status.busy": "2022-02-21T15:00:12.723801Z",
     "iopub.status.idle": "2022-02-21T15:00:12.727811Z",
     "shell.execute_reply": "2022-02-21T15:00:12.726880Z",
     "shell.execute_reply.started": "2022-02-21T15:00:12.724224Z"
    },
    "papermill": {
     "duration": 0.059526,
     "end_time": "2022-02-21T19:36:51.186160",
     "exception": false,
     "start_time": "2022-02-21T19:36:51.126634",
     "status": "completed"
    },
    "tags": []
   },
   "source": [
    "**Section 5: N. of cases by each COUNTRY**"
   ]
  },
  {
   "cell_type": "code",
   "execution_count": 15,
   "id": "1d8c072f",
   "metadata": {
    "execution": {
     "iopub.execute_input": "2022-02-21T19:36:51.310683Z",
     "iopub.status.busy": "2022-02-21T19:36:51.309949Z",
     "iopub.status.idle": "2022-02-21T19:36:51.320789Z",
     "shell.execute_reply": "2022-02-21T19:36:51.321457Z",
     "shell.execute_reply.started": "2022-02-21T18:40:31.026554Z"
    },
    "papermill": {
     "duration": 0.075021,
     "end_time": "2022-02-21T19:36:51.321650",
     "exception": false,
     "start_time": "2022-02-21T19:36:51.246629",
     "status": "completed"
    },
    "tags": []
   },
   "outputs": [
    {
     "data": {
      "text/html": [
       "<div>\n",
       "<style scoped>\n",
       "    .dataframe tbody tr th:only-of-type {\n",
       "        vertical-align: middle;\n",
       "    }\n",
       "\n",
       "    .dataframe tbody tr th {\n",
       "        vertical-align: top;\n",
       "    }\n",
       "\n",
       "    .dataframe thead th {\n",
       "        text-align: right;\n",
       "    }\n",
       "</style>\n",
       "<table border=\"1\" class=\"dataframe\">\n",
       "  <thead>\n",
       "    <tr style=\"text-align: right;\">\n",
       "      <th></th>\n",
       "      <th>COUNTRY</th>\n",
       "    </tr>\n",
       "    <tr>\n",
       "      <th>COUNTRY</th>\n",
       "      <th></th>\n",
       "    </tr>\n",
       "  </thead>\n",
       "  <tbody>\n",
       "    <tr>\n",
       "      <th>bra</th>\n",
       "      <td>1496</td>\n",
       "    </tr>\n",
       "    <tr>\n",
       "      <th>can</th>\n",
       "      <td>230</td>\n",
       "    </tr>\n",
       "    <tr>\n",
       "      <th>deu</th>\n",
       "      <td>455</td>\n",
       "    </tr>\n",
       "    <tr>\n",
       "      <th>fra</th>\n",
       "      <td>303</td>\n",
       "    </tr>\n",
       "    <tr>\n",
       "      <th>tur</th>\n",
       "      <td>451</td>\n",
       "    </tr>\n",
       "    <tr>\n",
       "      <th>usa</th>\n",
       "      <td>2065</td>\n",
       "    </tr>\n",
       "  </tbody>\n",
       "</table>\n",
       "</div>"
      ],
      "text/plain": [
       "         COUNTRY\n",
       "COUNTRY         \n",
       "bra         1496\n",
       "can          230\n",
       "deu          455\n",
       "fra          303\n",
       "tur          451\n",
       "usa         2065"
      ]
     },
     "execution_count": 15,
     "metadata": {},
     "output_type": "execute_result"
    }
   ],
   "source": [
    "df.groupby([\"COUNTRY\"]).agg({\"COUNTRY\":\n",
    "                                \"count\"})"
   ]
  },
  {
   "cell_type": "markdown",
   "id": "82107192",
   "metadata": {
    "papermill": {
     "duration": 0.062729,
     "end_time": "2022-02-21T19:36:51.446527",
     "exception": false,
     "start_time": "2022-02-21T19:36:51.383798",
     "status": "completed"
    },
    "tags": []
   },
   "source": [
    "**Section 6: What is the total revenue by COUNTRIES?**"
   ]
  },
  {
   "cell_type": "code",
   "execution_count": 16,
   "id": "7c7ac69b",
   "metadata": {
    "execution": {
     "iopub.execute_input": "2022-02-21T19:36:51.572519Z",
     "iopub.status.busy": "2022-02-21T19:36:51.571878Z",
     "iopub.status.idle": "2022-02-21T19:36:51.582855Z",
     "shell.execute_reply": "2022-02-21T19:36:51.583432Z",
     "shell.execute_reply.started": "2022-02-21T18:40:31.045477Z"
    },
    "papermill": {
     "duration": 0.075959,
     "end_time": "2022-02-21T19:36:51.583625",
     "exception": false,
     "start_time": "2022-02-21T19:36:51.507666",
     "status": "completed"
    },
    "tags": []
   },
   "outputs": [
    {
     "data": {
      "text/html": [
       "<div>\n",
       "<style scoped>\n",
       "    .dataframe tbody tr th:only-of-type {\n",
       "        vertical-align: middle;\n",
       "    }\n",
       "\n",
       "    .dataframe tbody tr th {\n",
       "        vertical-align: top;\n",
       "    }\n",
       "\n",
       "    .dataframe thead th {\n",
       "        text-align: right;\n",
       "    }\n",
       "</style>\n",
       "<table border=\"1\" class=\"dataframe\">\n",
       "  <thead>\n",
       "    <tr style=\"text-align: right;\">\n",
       "      <th></th>\n",
       "      <th>PRICE</th>\n",
       "    </tr>\n",
       "    <tr>\n",
       "      <th>COUNTRY</th>\n",
       "      <th></th>\n",
       "    </tr>\n",
       "  </thead>\n",
       "  <tbody>\n",
       "    <tr>\n",
       "      <th>bra</th>\n",
       "      <td>51354</td>\n",
       "    </tr>\n",
       "    <tr>\n",
       "      <th>can</th>\n",
       "      <td>7730</td>\n",
       "    </tr>\n",
       "    <tr>\n",
       "      <th>deu</th>\n",
       "      <td>15485</td>\n",
       "    </tr>\n",
       "    <tr>\n",
       "      <th>fra</th>\n",
       "      <td>10177</td>\n",
       "    </tr>\n",
       "    <tr>\n",
       "      <th>tur</th>\n",
       "      <td>15689</td>\n",
       "    </tr>\n",
       "    <tr>\n",
       "      <th>usa</th>\n",
       "      <td>70225</td>\n",
       "    </tr>\n",
       "  </tbody>\n",
       "</table>\n",
       "</div>"
      ],
      "text/plain": [
       "         PRICE\n",
       "COUNTRY       \n",
       "bra      51354\n",
       "can       7730\n",
       "deu      15485\n",
       "fra      10177\n",
       "tur      15689\n",
       "usa      70225"
      ]
     },
     "execution_count": 16,
     "metadata": {},
     "output_type": "execute_result"
    }
   ],
   "source": [
    "df.groupby([\"COUNTRY\"]).agg({\"PRICE\":\n",
    "                                \"sum\"})"
   ]
  },
  {
   "cell_type": "markdown",
   "id": "89d7ca3c",
   "metadata": {
    "papermill": {
     "duration": 0.061423,
     "end_time": "2022-02-21T19:36:51.706984",
     "exception": false,
     "start_time": "2022-02-21T19:36:51.645561",
     "status": "completed"
    },
    "tags": []
   },
   "source": [
    "**Section 7: N. of cases by each SOURCE (operating systems)**"
   ]
  },
  {
   "cell_type": "code",
   "execution_count": 17,
   "id": "153370fc",
   "metadata": {
    "execution": {
     "iopub.execute_input": "2022-02-21T19:36:51.834057Z",
     "iopub.status.busy": "2022-02-21T19:36:51.833331Z",
     "iopub.status.idle": "2022-02-21T19:36:51.844735Z",
     "shell.execute_reply": "2022-02-21T19:36:51.845351Z",
     "shell.execute_reply.started": "2022-02-21T18:41:17.484659Z"
    },
    "papermill": {
     "duration": 0.076838,
     "end_time": "2022-02-21T19:36:51.845533",
     "exception": false,
     "start_time": "2022-02-21T19:36:51.768695",
     "status": "completed"
    },
    "tags": []
   },
   "outputs": [
    {
     "data": {
      "text/html": [
       "<div>\n",
       "<style scoped>\n",
       "    .dataframe tbody tr th:only-of-type {\n",
       "        vertical-align: middle;\n",
       "    }\n",
       "\n",
       "    .dataframe tbody tr th {\n",
       "        vertical-align: top;\n",
       "    }\n",
       "\n",
       "    .dataframe thead th {\n",
       "        text-align: right;\n",
       "    }\n",
       "</style>\n",
       "<table border=\"1\" class=\"dataframe\">\n",
       "  <thead>\n",
       "    <tr style=\"text-align: right;\">\n",
       "      <th></th>\n",
       "      <th>SOURCE</th>\n",
       "    </tr>\n",
       "    <tr>\n",
       "      <th>SOURCE</th>\n",
       "      <th></th>\n",
       "    </tr>\n",
       "  </thead>\n",
       "  <tbody>\n",
       "    <tr>\n",
       "      <th>android</th>\n",
       "      <td>2974</td>\n",
       "    </tr>\n",
       "    <tr>\n",
       "      <th>ios</th>\n",
       "      <td>2026</td>\n",
       "    </tr>\n",
       "  </tbody>\n",
       "</table>\n",
       "</div>"
      ],
      "text/plain": [
       "         SOURCE\n",
       "SOURCE         \n",
       "android    2974\n",
       "ios        2026"
      ]
     },
     "execution_count": 17,
     "metadata": {},
     "output_type": "execute_result"
    }
   ],
   "source": [
    "df.groupby([\"SOURCE\"]).agg({\"SOURCE\":\n",
    "                                \"count\"})"
   ]
  },
  {
   "cell_type": "markdown",
   "id": "937f74a6",
   "metadata": {
    "papermill": {
     "duration": 0.070785,
     "end_time": "2022-02-21T19:36:51.993317",
     "exception": false,
     "start_time": "2022-02-21T19:36:51.922532",
     "status": "completed"
    },
    "tags": []
   },
   "source": [
    "**Section 8: Average PRICE by countries**"
   ]
  },
  {
   "cell_type": "code",
   "execution_count": 18,
   "id": "81aa19b7",
   "metadata": {
    "execution": {
     "iopub.execute_input": "2022-02-21T19:36:52.151241Z",
     "iopub.status.busy": "2022-02-21T19:36:52.150202Z",
     "iopub.status.idle": "2022-02-21T19:36:52.174827Z",
     "shell.execute_reply": "2022-02-21T19:36:52.175514Z",
     "shell.execute_reply.started": "2022-02-21T18:40:31.078538Z"
    },
    "papermill": {
     "duration": 0.096804,
     "end_time": "2022-02-21T19:36:52.175744",
     "exception": false,
     "start_time": "2022-02-21T19:36:52.078940",
     "status": "completed"
    },
    "tags": []
   },
   "outputs": [
    {
     "data": {
      "text/html": [
       "<div>\n",
       "<style scoped>\n",
       "    .dataframe tbody tr th:only-of-type {\n",
       "        vertical-align: middle;\n",
       "    }\n",
       "\n",
       "    .dataframe tbody tr th {\n",
       "        vertical-align: top;\n",
       "    }\n",
       "\n",
       "    .dataframe thead th {\n",
       "        text-align: right;\n",
       "    }\n",
       "</style>\n",
       "<table border=\"1\" class=\"dataframe\">\n",
       "  <thead>\n",
       "    <tr style=\"text-align: right;\">\n",
       "      <th></th>\n",
       "      <th>PRICE</th>\n",
       "    </tr>\n",
       "    <tr>\n",
       "      <th>COUNTRY</th>\n",
       "      <th></th>\n",
       "    </tr>\n",
       "  </thead>\n",
       "  <tbody>\n",
       "    <tr>\n",
       "      <th>bra</th>\n",
       "      <td>34.327540</td>\n",
       "    </tr>\n",
       "    <tr>\n",
       "      <th>can</th>\n",
       "      <td>33.608696</td>\n",
       "    </tr>\n",
       "    <tr>\n",
       "      <th>deu</th>\n",
       "      <td>34.032967</td>\n",
       "    </tr>\n",
       "    <tr>\n",
       "      <th>fra</th>\n",
       "      <td>33.587459</td>\n",
       "    </tr>\n",
       "    <tr>\n",
       "      <th>tur</th>\n",
       "      <td>34.787140</td>\n",
       "    </tr>\n",
       "    <tr>\n",
       "      <th>usa</th>\n",
       "      <td>34.007264</td>\n",
       "    </tr>\n",
       "  </tbody>\n",
       "</table>\n",
       "</div>"
      ],
      "text/plain": [
       "             PRICE\n",
       "COUNTRY           \n",
       "bra      34.327540\n",
       "can      33.608696\n",
       "deu      34.032967\n",
       "fra      33.587459\n",
       "tur      34.787140\n",
       "usa      34.007264"
      ]
     },
     "execution_count": 18,
     "metadata": {},
     "output_type": "execute_result"
    }
   ],
   "source": [
    "df[[\"COUNTRY\",\"PRICE\"]].groupby(\"COUNTRY\").mean()"
   ]
  },
  {
   "cell_type": "markdown",
   "id": "6ce52a20",
   "metadata": {
    "papermill": {
     "duration": 0.068286,
     "end_time": "2022-02-21T19:36:52.327751",
     "exception": false,
     "start_time": "2022-02-21T19:36:52.259465",
     "status": "completed"
    },
    "tags": []
   },
   "source": [
    "**Section 9: Average PRICE by sources**"
   ]
  },
  {
   "cell_type": "code",
   "execution_count": 19,
   "id": "35f9541d",
   "metadata": {
    "execution": {
     "iopub.execute_input": "2022-02-21T19:36:52.465136Z",
     "iopub.status.busy": "2022-02-21T19:36:52.464088Z",
     "iopub.status.idle": "2022-02-21T19:36:52.483999Z",
     "shell.execute_reply": "2022-02-21T19:36:52.484743Z",
     "shell.execute_reply.started": "2022-02-21T18:40:31.097679Z"
    },
    "papermill": {
     "duration": 0.091246,
     "end_time": "2022-02-21T19:36:52.484940",
     "exception": false,
     "start_time": "2022-02-21T19:36:52.393694",
     "status": "completed"
    },
    "tags": []
   },
   "outputs": [
    {
     "data": {
      "text/html": [
       "<div>\n",
       "<style scoped>\n",
       "    .dataframe tbody tr th:only-of-type {\n",
       "        vertical-align: middle;\n",
       "    }\n",
       "\n",
       "    .dataframe tbody tr th {\n",
       "        vertical-align: top;\n",
       "    }\n",
       "\n",
       "    .dataframe thead th {\n",
       "        text-align: right;\n",
       "    }\n",
       "</style>\n",
       "<table border=\"1\" class=\"dataframe\">\n",
       "  <thead>\n",
       "    <tr style=\"text-align: right;\">\n",
       "      <th></th>\n",
       "      <th>PRICE</th>\n",
       "    </tr>\n",
       "    <tr>\n",
       "      <th>SOURCE</th>\n",
       "      <th></th>\n",
       "    </tr>\n",
       "  </thead>\n",
       "  <tbody>\n",
       "    <tr>\n",
       "      <th>android</th>\n",
       "      <td>34.174849</td>\n",
       "    </tr>\n",
       "    <tr>\n",
       "      <th>ios</th>\n",
       "      <td>34.069102</td>\n",
       "    </tr>\n",
       "  </tbody>\n",
       "</table>\n",
       "</div>"
      ],
      "text/plain": [
       "             PRICE\n",
       "SOURCE            \n",
       "android  34.174849\n",
       "ios      34.069102"
      ]
     },
     "execution_count": 19,
     "metadata": {},
     "output_type": "execute_result"
    }
   ],
   "source": [
    "df.pivot_table(\"PRICE\", index=[\"SOURCE\"])"
   ]
  },
  {
   "cell_type": "markdown",
   "id": "0246b4b2",
   "metadata": {
    "papermill": {
     "duration": 0.064361,
     "end_time": "2022-02-21T19:36:52.617249",
     "exception": false,
     "start_time": "2022-02-21T19:36:52.552888",
     "status": "completed"
    },
    "tags": []
   },
   "source": [
    "**Section 10: Average PRICE by COUNTRY-SOURCE differentiation**"
   ]
  },
  {
   "cell_type": "code",
   "execution_count": 20,
   "id": "9633a032",
   "metadata": {
    "execution": {
     "iopub.execute_input": "2022-02-21T19:36:52.754429Z",
     "iopub.status.busy": "2022-02-21T19:36:52.753401Z",
     "iopub.status.idle": "2022-02-21T19:36:52.770676Z",
     "shell.execute_reply": "2022-02-21T19:36:52.770082Z",
     "shell.execute_reply.started": "2022-02-21T18:40:31.122289Z"
    },
    "papermill": {
     "duration": 0.087723,
     "end_time": "2022-02-21T19:36:52.770824",
     "exception": false,
     "start_time": "2022-02-21T19:36:52.683101",
     "status": "completed"
    },
    "tags": []
   },
   "outputs": [
    {
     "data": {
      "text/html": [
       "<div>\n",
       "<style scoped>\n",
       "    .dataframe tbody tr th:only-of-type {\n",
       "        vertical-align: middle;\n",
       "    }\n",
       "\n",
       "    .dataframe tbody tr th {\n",
       "        vertical-align: top;\n",
       "    }\n",
       "\n",
       "    .dataframe thead th {\n",
       "        text-align: right;\n",
       "    }\n",
       "</style>\n",
       "<table border=\"1\" class=\"dataframe\">\n",
       "  <thead>\n",
       "    <tr style=\"text-align: right;\">\n",
       "      <th></th>\n",
       "      <th></th>\n",
       "      <th>PRICE</th>\n",
       "    </tr>\n",
       "    <tr>\n",
       "      <th>COUNTRY</th>\n",
       "      <th>SOURCE</th>\n",
       "      <th></th>\n",
       "    </tr>\n",
       "  </thead>\n",
       "  <tbody>\n",
       "    <tr>\n",
       "      <th rowspan=\"2\" valign=\"top\">bra</th>\n",
       "      <th>android</th>\n",
       "      <td>34.387029</td>\n",
       "    </tr>\n",
       "    <tr>\n",
       "      <th>ios</th>\n",
       "      <td>34.222222</td>\n",
       "    </tr>\n",
       "    <tr>\n",
       "      <th rowspan=\"2\" valign=\"top\">can</th>\n",
       "      <th>android</th>\n",
       "      <td>33.330709</td>\n",
       "    </tr>\n",
       "    <tr>\n",
       "      <th>ios</th>\n",
       "      <td>33.951456</td>\n",
       "    </tr>\n",
       "    <tr>\n",
       "      <th rowspan=\"2\" valign=\"top\">deu</th>\n",
       "      <th>android</th>\n",
       "      <td>33.869888</td>\n",
       "    </tr>\n",
       "    <tr>\n",
       "      <th>ios</th>\n",
       "      <td>34.268817</td>\n",
       "    </tr>\n",
       "    <tr>\n",
       "      <th rowspan=\"2\" valign=\"top\">fra</th>\n",
       "      <th>android</th>\n",
       "      <td>34.312500</td>\n",
       "    </tr>\n",
       "    <tr>\n",
       "      <th>ios</th>\n",
       "      <td>32.776224</td>\n",
       "    </tr>\n",
       "    <tr>\n",
       "      <th rowspan=\"2\" valign=\"top\">tur</th>\n",
       "      <th>android</th>\n",
       "      <td>36.229437</td>\n",
       "    </tr>\n",
       "    <tr>\n",
       "      <th>ios</th>\n",
       "      <td>33.272727</td>\n",
       "    </tr>\n",
       "    <tr>\n",
       "      <th rowspan=\"2\" valign=\"top\">usa</th>\n",
       "      <th>android</th>\n",
       "      <td>33.760357</td>\n",
       "    </tr>\n",
       "    <tr>\n",
       "      <th>ios</th>\n",
       "      <td>34.371703</td>\n",
       "    </tr>\n",
       "  </tbody>\n",
       "</table>\n",
       "</div>"
      ],
      "text/plain": [
       "                     PRICE\n",
       "COUNTRY SOURCE            \n",
       "bra     android  34.387029\n",
       "        ios      34.222222\n",
       "can     android  33.330709\n",
       "        ios      33.951456\n",
       "deu     android  33.869888\n",
       "        ios      34.268817\n",
       "fra     android  34.312500\n",
       "        ios      32.776224\n",
       "tur     android  36.229437\n",
       "        ios      33.272727\n",
       "usa     android  33.760357\n",
       "        ios      34.371703"
      ]
     },
     "execution_count": 20,
     "metadata": {},
     "output_type": "execute_result"
    }
   ],
   "source": [
    "df.pivot_table(values=\"PRICE\", index=[\"COUNTRY\", \"SOURCE\"], aggfunc='mean')"
   ]
  },
  {
   "cell_type": "markdown",
   "id": "e5fc5875",
   "metadata": {
    "papermill": {
     "duration": 0.067211,
     "end_time": "2022-02-21T19:36:52.905474",
     "exception": false,
     "start_time": "2022-02-21T19:36:52.838263",
     "status": "completed"
    },
    "tags": []
   },
   "source": [
    "**Section 11: Average revenue by COUNTRY, SOURCE, SEX, AGE.**"
   ]
  },
  {
   "cell_type": "code",
   "execution_count": 21,
   "id": "ef47b866",
   "metadata": {
    "execution": {
     "iopub.execute_input": "2022-02-21T19:36:53.047020Z",
     "iopub.status.busy": "2022-02-21T19:36:53.046331Z",
     "iopub.status.idle": "2022-02-21T19:36:53.074305Z",
     "shell.execute_reply": "2022-02-21T19:36:53.074912Z",
     "shell.execute_reply.started": "2022-02-21T18:41:29.692197Z"
    },
    "papermill": {
     "duration": 0.100668,
     "end_time": "2022-02-21T19:36:53.075092",
     "exception": false,
     "start_time": "2022-02-21T19:36:52.974424",
     "status": "completed"
    },
    "tags": []
   },
   "outputs": [
    {
     "data": {
      "text/html": [
       "<div>\n",
       "<style scoped>\n",
       "    .dataframe tbody tr th:only-of-type {\n",
       "        vertical-align: middle;\n",
       "    }\n",
       "\n",
       "    .dataframe tbody tr th {\n",
       "        vertical-align: top;\n",
       "    }\n",
       "\n",
       "    .dataframe thead th {\n",
       "        text-align: right;\n",
       "    }\n",
       "</style>\n",
       "<table border=\"1\" class=\"dataframe\">\n",
       "  <thead>\n",
       "    <tr style=\"text-align: right;\">\n",
       "      <th></th>\n",
       "      <th></th>\n",
       "      <th></th>\n",
       "      <th></th>\n",
       "      <th>PRICE</th>\n",
       "    </tr>\n",
       "    <tr>\n",
       "      <th>COUNTRY</th>\n",
       "      <th>SOURCE</th>\n",
       "      <th>SEX</th>\n",
       "      <th>AGE</th>\n",
       "      <th></th>\n",
       "    </tr>\n",
       "  </thead>\n",
       "  <tbody>\n",
       "    <tr>\n",
       "      <th rowspan=\"5\" valign=\"top\">bra</th>\n",
       "      <th rowspan=\"5\" valign=\"top\">android</th>\n",
       "      <th rowspan=\"5\" valign=\"top\">female</th>\n",
       "      <th>15</th>\n",
       "      <td>38.714286</td>\n",
       "    </tr>\n",
       "    <tr>\n",
       "      <th>16</th>\n",
       "      <td>35.944444</td>\n",
       "    </tr>\n",
       "    <tr>\n",
       "      <th>17</th>\n",
       "      <td>35.666667</td>\n",
       "    </tr>\n",
       "    <tr>\n",
       "      <th>18</th>\n",
       "      <td>32.255814</td>\n",
       "    </tr>\n",
       "    <tr>\n",
       "      <th>19</th>\n",
       "      <td>35.206897</td>\n",
       "    </tr>\n",
       "    <tr>\n",
       "      <th>...</th>\n",
       "      <th>...</th>\n",
       "      <th>...</th>\n",
       "      <th>...</th>\n",
       "      <td>...</td>\n",
       "    </tr>\n",
       "    <tr>\n",
       "      <th rowspan=\"5\" valign=\"top\">usa</th>\n",
       "      <th rowspan=\"5\" valign=\"top\">ios</th>\n",
       "      <th rowspan=\"5\" valign=\"top\">male</th>\n",
       "      <th>42</th>\n",
       "      <td>30.250000</td>\n",
       "    </tr>\n",
       "    <tr>\n",
       "      <th>50</th>\n",
       "      <td>39.000000</td>\n",
       "    </tr>\n",
       "    <tr>\n",
       "      <th>53</th>\n",
       "      <td>34.000000</td>\n",
       "    </tr>\n",
       "    <tr>\n",
       "      <th>55</th>\n",
       "      <td>29.000000</td>\n",
       "    </tr>\n",
       "    <tr>\n",
       "      <th>59</th>\n",
       "      <td>46.500000</td>\n",
       "    </tr>\n",
       "  </tbody>\n",
       "</table>\n",
       "<p>348 rows × 1 columns</p>\n",
       "</div>"
      ],
      "text/plain": [
       "                                PRICE\n",
       "COUNTRY SOURCE  SEX    AGE           \n",
       "bra     android female 15   38.714286\n",
       "                       16   35.944444\n",
       "                       17   35.666667\n",
       "                       18   32.255814\n",
       "                       19   35.206897\n",
       "...                               ...\n",
       "usa     ios     male   42   30.250000\n",
       "                       50   39.000000\n",
       "                       53   34.000000\n",
       "                       55   29.000000\n",
       "                       59   46.500000\n",
       "\n",
       "[348 rows x 1 columns]"
      ]
     },
     "execution_count": 21,
     "metadata": {},
     "output_type": "execute_result"
    }
   ],
   "source": [
    "df.pivot_table(values=\"PRICE\", index=[\"COUNTRY\", \"SOURCE\",\"SEX\",\"AGE\"], aggfunc='mean')\n"
   ]
  },
  {
   "cell_type": "code",
   "execution_count": 22,
   "id": "d285699c",
   "metadata": {
    "execution": {
     "iopub.execute_input": "2022-02-21T19:36:53.221159Z",
     "iopub.status.busy": "2022-02-21T19:36:53.220333Z",
     "iopub.status.idle": "2022-02-21T19:36:53.242300Z",
     "shell.execute_reply": "2022-02-21T19:36:53.243003Z",
     "shell.execute_reply.started": "2022-02-21T18:40:31.182252Z"
    },
    "papermill": {
     "duration": 0.097567,
     "end_time": "2022-02-21T19:36:53.243190",
     "exception": false,
     "start_time": "2022-02-21T19:36:53.145623",
     "status": "completed"
    },
    "tags": []
   },
   "outputs": [
    {
     "data": {
      "text/html": [
       "<div>\n",
       "<style scoped>\n",
       "    .dataframe tbody tr th:only-of-type {\n",
       "        vertical-align: middle;\n",
       "    }\n",
       "\n",
       "    .dataframe tbody tr th {\n",
       "        vertical-align: top;\n",
       "    }\n",
       "\n",
       "    .dataframe thead th {\n",
       "        text-align: right;\n",
       "    }\n",
       "</style>\n",
       "<table border=\"1\" class=\"dataframe\">\n",
       "  <thead>\n",
       "    <tr style=\"text-align: right;\">\n",
       "      <th></th>\n",
       "      <th></th>\n",
       "      <th></th>\n",
       "      <th></th>\n",
       "      <th>PRICE</th>\n",
       "    </tr>\n",
       "    <tr>\n",
       "      <th>COUNTRY</th>\n",
       "      <th>SOURCE</th>\n",
       "      <th>SEX</th>\n",
       "      <th>AGE</th>\n",
       "      <th></th>\n",
       "    </tr>\n",
       "  </thead>\n",
       "  <tbody>\n",
       "    <tr>\n",
       "      <th rowspan=\"5\" valign=\"top\">bra</th>\n",
       "      <th rowspan=\"5\" valign=\"top\">android</th>\n",
       "      <th rowspan=\"5\" valign=\"top\">female</th>\n",
       "      <th>15</th>\n",
       "      <td>38.714286</td>\n",
       "    </tr>\n",
       "    <tr>\n",
       "      <th>16</th>\n",
       "      <td>35.944444</td>\n",
       "    </tr>\n",
       "    <tr>\n",
       "      <th>17</th>\n",
       "      <td>35.666667</td>\n",
       "    </tr>\n",
       "    <tr>\n",
       "      <th>18</th>\n",
       "      <td>32.255814</td>\n",
       "    </tr>\n",
       "    <tr>\n",
       "      <th>19</th>\n",
       "      <td>35.206897</td>\n",
       "    </tr>\n",
       "    <tr>\n",
       "      <th>...</th>\n",
       "      <th>...</th>\n",
       "      <th>...</th>\n",
       "      <th>...</th>\n",
       "      <td>...</td>\n",
       "    </tr>\n",
       "    <tr>\n",
       "      <th rowspan=\"5\" valign=\"top\">usa</th>\n",
       "      <th rowspan=\"5\" valign=\"top\">ios</th>\n",
       "      <th rowspan=\"5\" valign=\"top\">male</th>\n",
       "      <th>42</th>\n",
       "      <td>30.250000</td>\n",
       "    </tr>\n",
       "    <tr>\n",
       "      <th>50</th>\n",
       "      <td>39.000000</td>\n",
       "    </tr>\n",
       "    <tr>\n",
       "      <th>53</th>\n",
       "      <td>34.000000</td>\n",
       "    </tr>\n",
       "    <tr>\n",
       "      <th>55</th>\n",
       "      <td>29.000000</td>\n",
       "    </tr>\n",
       "    <tr>\n",
       "      <th>59</th>\n",
       "      <td>46.500000</td>\n",
       "    </tr>\n",
       "  </tbody>\n",
       "</table>\n",
       "<p>348 rows × 1 columns</p>\n",
       "</div>"
      ],
      "text/plain": [
       "                                PRICE\n",
       "COUNTRY SOURCE  SEX    AGE           \n",
       "bra     android female 15   38.714286\n",
       "                       16   35.944444\n",
       "                       17   35.666667\n",
       "                       18   32.255814\n",
       "                       19   35.206897\n",
       "...                               ...\n",
       "usa     ios     male   42   30.250000\n",
       "                       50   39.000000\n",
       "                       53   34.000000\n",
       "                       55   29.000000\n",
       "                       59   46.500000\n",
       "\n",
       "[348 rows x 1 columns]"
      ]
     },
     "execution_count": 22,
     "metadata": {},
     "output_type": "execute_result"
    }
   ],
   "source": [
    "df.groupby([\"COUNTRY\", \"SOURCE\",\"SEX\",\"AGE\"]).agg({\"PRICE\":\n",
    "                                                   \"mean\"})"
   ]
  },
  {
   "cell_type": "markdown",
   "id": "acf4a1a2",
   "metadata": {
    "papermill": {
     "duration": 0.073093,
     "end_time": "2022-02-21T19:36:53.390809",
     "exception": false,
     "start_time": "2022-02-21T19:36:53.317716",
     "status": "completed"
    },
    "tags": []
   },
   "source": [
    "**CREATING PERSONAS**\n",
    "**Section 12: Let's see prices sorted descending**"
   ]
  },
  {
   "cell_type": "code",
   "execution_count": 23,
   "id": "8501045e",
   "metadata": {
    "execution": {
     "iopub.execute_input": "2022-02-21T19:36:53.536137Z",
     "iopub.status.busy": "2022-02-21T19:36:53.534954Z",
     "iopub.status.idle": "2022-02-21T19:36:53.549053Z",
     "shell.execute_reply": "2022-02-21T19:36:53.549567Z",
     "shell.execute_reply.started": "2022-02-21T18:41:35.545025Z"
    },
    "papermill": {
     "duration": 0.090642,
     "end_time": "2022-02-21T19:36:53.549765",
     "exception": false,
     "start_time": "2022-02-21T19:36:53.459123",
     "status": "completed"
    },
    "tags": []
   },
   "outputs": [],
   "source": [
    "agg_df = df.pivot_table(\"PRICE\", index=[\"COUNTRY\", \"SOURCE\",\"SEX\",\"AGE\"], aggfunc='mean').sort_values(\"PRICE\", ascending=False)"
   ]
  },
  {
   "cell_type": "code",
   "execution_count": 24,
   "id": "4073b3d2",
   "metadata": {
    "execution": {
     "iopub.execute_input": "2022-02-21T19:36:53.685870Z",
     "iopub.status.busy": "2022-02-21T19:36:53.685154Z",
     "iopub.status.idle": "2022-02-21T19:36:53.698182Z",
     "shell.execute_reply": "2022-02-21T19:36:53.698780Z",
     "shell.execute_reply.started": "2022-02-21T18:41:39.852027Z"
    },
    "papermill": {
     "duration": 0.083244,
     "end_time": "2022-02-21T19:36:53.698972",
     "exception": false,
     "start_time": "2022-02-21T19:36:53.615728",
     "status": "completed"
    },
    "tags": []
   },
   "outputs": [
    {
     "data": {
      "text/html": [
       "<div>\n",
       "<style scoped>\n",
       "    .dataframe tbody tr th:only-of-type {\n",
       "        vertical-align: middle;\n",
       "    }\n",
       "\n",
       "    .dataframe tbody tr th {\n",
       "        vertical-align: top;\n",
       "    }\n",
       "\n",
       "    .dataframe thead th {\n",
       "        text-align: right;\n",
       "    }\n",
       "</style>\n",
       "<table border=\"1\" class=\"dataframe\">\n",
       "  <thead>\n",
       "    <tr style=\"text-align: right;\">\n",
       "      <th></th>\n",
       "      <th></th>\n",
       "      <th></th>\n",
       "      <th></th>\n",
       "      <th>PRICE</th>\n",
       "    </tr>\n",
       "    <tr>\n",
       "      <th>COUNTRY</th>\n",
       "      <th>SOURCE</th>\n",
       "      <th>SEX</th>\n",
       "      <th>AGE</th>\n",
       "      <th></th>\n",
       "    </tr>\n",
       "  </thead>\n",
       "  <tbody>\n",
       "    <tr>\n",
       "      <th>bra</th>\n",
       "      <th>android</th>\n",
       "      <th>male</th>\n",
       "      <th>46</th>\n",
       "      <td>59.0</td>\n",
       "    </tr>\n",
       "    <tr>\n",
       "      <th>usa</th>\n",
       "      <th>android</th>\n",
       "      <th>male</th>\n",
       "      <th>36</th>\n",
       "      <td>59.0</td>\n",
       "    </tr>\n",
       "    <tr>\n",
       "      <th>fra</th>\n",
       "      <th>android</th>\n",
       "      <th>female</th>\n",
       "      <th>24</th>\n",
       "      <td>59.0</td>\n",
       "    </tr>\n",
       "    <tr>\n",
       "      <th>usa</th>\n",
       "      <th>ios</th>\n",
       "      <th>male</th>\n",
       "      <th>32</th>\n",
       "      <td>54.0</td>\n",
       "    </tr>\n",
       "    <tr>\n",
       "      <th>deu</th>\n",
       "      <th>android</th>\n",
       "      <th>female</th>\n",
       "      <th>36</th>\n",
       "      <td>49.0</td>\n",
       "    </tr>\n",
       "  </tbody>\n",
       "</table>\n",
       "</div>"
      ],
      "text/plain": [
       "                            PRICE\n",
       "COUNTRY SOURCE  SEX    AGE       \n",
       "bra     android male   46    59.0\n",
       "usa     android male   36    59.0\n",
       "fra     android female 24    59.0\n",
       "usa     ios     male   32    54.0\n",
       "deu     android female 36    49.0"
      ]
     },
     "execution_count": 24,
     "metadata": {},
     "output_type": "execute_result"
    }
   ],
   "source": [
    "agg_df.head()"
   ]
  },
  {
   "cell_type": "markdown",
   "id": "43221c61",
   "metadata": {
    "papermill": {
     "duration": 0.066661,
     "end_time": "2022-02-21T19:36:53.835055",
     "exception": false,
     "start_time": "2022-02-21T19:36:53.768394",
     "status": "completed"
    },
    "tags": []
   },
   "source": [
    "**Section 13: Changing Index Names into Column Name**"
   ]
  },
  {
   "cell_type": "code",
   "execution_count": 25,
   "id": "9578d2da",
   "metadata": {
    "execution": {
     "iopub.execute_input": "2022-02-21T19:36:53.988981Z",
     "iopub.status.busy": "2022-02-21T19:36:53.988102Z",
     "iopub.status.idle": "2022-02-21T19:36:53.991387Z",
     "shell.execute_reply": "2022-02-21T19:36:53.991911Z",
     "shell.execute_reply.started": "2022-02-21T18:43:27.679796Z"
    },
    "papermill": {
     "duration": 0.083623,
     "end_time": "2022-02-21T19:36:53.992088",
     "exception": false,
     "start_time": "2022-02-21T19:36:53.908465",
     "status": "completed"
    },
    "tags": []
   },
   "outputs": [
    {
     "data": {
      "text/plain": [
       "FrozenList(['COUNTRY', 'SOURCE', 'SEX', 'AGE'])"
      ]
     },
     "execution_count": 25,
     "metadata": {},
     "output_type": "execute_result"
    }
   ],
   "source": [
    "agg_df.index.names"
   ]
  },
  {
   "cell_type": "code",
   "execution_count": 26,
   "id": "928b6999",
   "metadata": {
    "execution": {
     "iopub.execute_input": "2022-02-21T19:36:54.132654Z",
     "iopub.status.busy": "2022-02-21T19:36:54.131662Z",
     "iopub.status.idle": "2022-02-21T19:36:54.139164Z",
     "shell.execute_reply": "2022-02-21T19:36:54.139736Z",
     "shell.execute_reply.started": "2022-02-21T18:43:39.137672Z"
    },
    "papermill": {
     "duration": 0.077936,
     "end_time": "2022-02-21T19:36:54.139937",
     "exception": false,
     "start_time": "2022-02-21T19:36:54.062001",
     "status": "completed"
    },
    "tags": []
   },
   "outputs": [],
   "source": [
    "agg_df.reset_index(inplace=True)"
   ]
  },
  {
   "cell_type": "code",
   "execution_count": 27,
   "id": "43a1f03c",
   "metadata": {
    "execution": {
     "iopub.execute_input": "2022-02-21T19:36:54.283999Z",
     "iopub.status.busy": "2022-02-21T19:36:54.283250Z",
     "iopub.status.idle": "2022-02-21T19:36:54.289062Z",
     "shell.execute_reply": "2022-02-21T19:36:54.289662Z",
     "shell.execute_reply.started": "2022-02-21T18:43:46.849744Z"
    },
    "papermill": {
     "duration": 0.078582,
     "end_time": "2022-02-21T19:36:54.289860",
     "exception": false,
     "start_time": "2022-02-21T19:36:54.211278",
     "status": "completed"
    },
    "tags": []
   },
   "outputs": [
    {
     "data": {
      "text/plain": [
       "FrozenList([None])"
      ]
     },
     "execution_count": 27,
     "metadata": {},
     "output_type": "execute_result"
    }
   ],
   "source": [
    "agg_df.index.names"
   ]
  },
  {
   "cell_type": "code",
   "execution_count": 28,
   "id": "3d7f97c4",
   "metadata": {
    "execution": {
     "iopub.execute_input": "2022-02-21T19:36:54.437001Z",
     "iopub.status.busy": "2022-02-21T19:36:54.435962Z",
     "iopub.status.idle": "2022-02-21T19:36:54.449000Z",
     "shell.execute_reply": "2022-02-21T19:36:54.449513Z",
     "shell.execute_reply.started": "2022-02-21T18:43:53.061152Z"
    },
    "papermill": {
     "duration": 0.088081,
     "end_time": "2022-02-21T19:36:54.449708",
     "exception": false,
     "start_time": "2022-02-21T19:36:54.361627",
     "status": "completed"
    },
    "tags": []
   },
   "outputs": [
    {
     "data": {
      "text/html": [
       "<div>\n",
       "<style scoped>\n",
       "    .dataframe tbody tr th:only-of-type {\n",
       "        vertical-align: middle;\n",
       "    }\n",
       "\n",
       "    .dataframe tbody tr th {\n",
       "        vertical-align: top;\n",
       "    }\n",
       "\n",
       "    .dataframe thead th {\n",
       "        text-align: right;\n",
       "    }\n",
       "</style>\n",
       "<table border=\"1\" class=\"dataframe\">\n",
       "  <thead>\n",
       "    <tr style=\"text-align: right;\">\n",
       "      <th></th>\n",
       "      <th>COUNTRY</th>\n",
       "      <th>SOURCE</th>\n",
       "      <th>SEX</th>\n",
       "      <th>AGE</th>\n",
       "      <th>PRICE</th>\n",
       "    </tr>\n",
       "  </thead>\n",
       "  <tbody>\n",
       "    <tr>\n",
       "      <th>0</th>\n",
       "      <td>bra</td>\n",
       "      <td>android</td>\n",
       "      <td>male</td>\n",
       "      <td>46</td>\n",
       "      <td>59.0</td>\n",
       "    </tr>\n",
       "    <tr>\n",
       "      <th>1</th>\n",
       "      <td>usa</td>\n",
       "      <td>android</td>\n",
       "      <td>male</td>\n",
       "      <td>36</td>\n",
       "      <td>59.0</td>\n",
       "    </tr>\n",
       "    <tr>\n",
       "      <th>2</th>\n",
       "      <td>fra</td>\n",
       "      <td>android</td>\n",
       "      <td>female</td>\n",
       "      <td>24</td>\n",
       "      <td>59.0</td>\n",
       "    </tr>\n",
       "    <tr>\n",
       "      <th>3</th>\n",
       "      <td>usa</td>\n",
       "      <td>ios</td>\n",
       "      <td>male</td>\n",
       "      <td>32</td>\n",
       "      <td>54.0</td>\n",
       "    </tr>\n",
       "    <tr>\n",
       "      <th>4</th>\n",
       "      <td>deu</td>\n",
       "      <td>android</td>\n",
       "      <td>female</td>\n",
       "      <td>36</td>\n",
       "      <td>49.0</td>\n",
       "    </tr>\n",
       "  </tbody>\n",
       "</table>\n",
       "</div>"
      ],
      "text/plain": [
       "  COUNTRY   SOURCE     SEX  AGE  PRICE\n",
       "0     bra  android    male   46   59.0\n",
       "1     usa  android    male   36   59.0\n",
       "2     fra  android  female   24   59.0\n",
       "3     usa      ios    male   32   54.0\n",
       "4     deu  android  female   36   49.0"
      ]
     },
     "execution_count": 28,
     "metadata": {},
     "output_type": "execute_result"
    }
   ],
   "source": [
    "agg_df.head() # now we have rearranged the column names."
   ]
  },
  {
   "cell_type": "markdown",
   "id": "bdb4fa2c",
   "metadata": {
    "papermill": {
     "duration": 0.070927,
     "end_time": "2022-02-21T19:36:54.589572",
     "exception": false,
     "start_time": "2022-02-21T19:36:54.518645",
     "status": "completed"
    },
    "tags": []
   },
   "source": [
    "**Section 14: Adding Age Categories**"
   ]
  },
  {
   "cell_type": "code",
   "execution_count": 29,
   "id": "d6b95641",
   "metadata": {
    "execution": {
     "iopub.execute_input": "2022-02-21T19:36:54.727929Z",
     "iopub.status.busy": "2022-02-21T19:36:54.727233Z",
     "iopub.status.idle": "2022-02-21T19:36:54.735156Z",
     "shell.execute_reply": "2022-02-21T19:36:54.735758Z",
     "shell.execute_reply.started": "2022-02-21T18:44:16.906637Z"
    },
    "papermill": {
     "duration": 0.078871,
     "end_time": "2022-02-21T19:36:54.735982",
     "exception": false,
     "start_time": "2022-02-21T19:36:54.657111",
     "status": "completed"
    },
    "tags": []
   },
   "outputs": [],
   "source": [
    "agg_df[\"AGE_CAT\"] = pd.cut(agg_df[\"AGE\"], bins=[0, 18, 23, 30, 40, 70],  labels=['0_18', '19_23', '24_30', '31_40', '41_70'])"
   ]
  },
  {
   "cell_type": "code",
   "execution_count": 30,
   "id": "02aef39d",
   "metadata": {
    "execution": {
     "iopub.execute_input": "2022-02-21T19:36:54.881266Z",
     "iopub.status.busy": "2022-02-21T19:36:54.880551Z",
     "iopub.status.idle": "2022-02-21T19:36:54.893648Z",
     "shell.execute_reply": "2022-02-21T19:36:54.894217Z",
     "shell.execute_reply.started": "2022-02-21T18:44:32.154677Z"
    },
    "papermill": {
     "duration": 0.089625,
     "end_time": "2022-02-21T19:36:54.894407",
     "exception": false,
     "start_time": "2022-02-21T19:36:54.804782",
     "status": "completed"
    },
    "tags": []
   },
   "outputs": [
    {
     "data": {
      "text/html": [
       "<div>\n",
       "<style scoped>\n",
       "    .dataframe tbody tr th:only-of-type {\n",
       "        vertical-align: middle;\n",
       "    }\n",
       "\n",
       "    .dataframe tbody tr th {\n",
       "        vertical-align: top;\n",
       "    }\n",
       "\n",
       "    .dataframe thead th {\n",
       "        text-align: right;\n",
       "    }\n",
       "</style>\n",
       "<table border=\"1\" class=\"dataframe\">\n",
       "  <thead>\n",
       "    <tr style=\"text-align: right;\">\n",
       "      <th></th>\n",
       "      <th>COUNTRY</th>\n",
       "      <th>SOURCE</th>\n",
       "      <th>SEX</th>\n",
       "      <th>AGE</th>\n",
       "      <th>PRICE</th>\n",
       "      <th>AGE_CAT</th>\n",
       "    </tr>\n",
       "  </thead>\n",
       "  <tbody>\n",
       "    <tr>\n",
       "      <th>0</th>\n",
       "      <td>bra</td>\n",
       "      <td>android</td>\n",
       "      <td>male</td>\n",
       "      <td>46</td>\n",
       "      <td>59.0</td>\n",
       "      <td>41_70</td>\n",
       "    </tr>\n",
       "    <tr>\n",
       "      <th>1</th>\n",
       "      <td>usa</td>\n",
       "      <td>android</td>\n",
       "      <td>male</td>\n",
       "      <td>36</td>\n",
       "      <td>59.0</td>\n",
       "      <td>31_40</td>\n",
       "    </tr>\n",
       "    <tr>\n",
       "      <th>2</th>\n",
       "      <td>fra</td>\n",
       "      <td>android</td>\n",
       "      <td>female</td>\n",
       "      <td>24</td>\n",
       "      <td>59.0</td>\n",
       "      <td>24_30</td>\n",
       "    </tr>\n",
       "    <tr>\n",
       "      <th>3</th>\n",
       "      <td>usa</td>\n",
       "      <td>ios</td>\n",
       "      <td>male</td>\n",
       "      <td>32</td>\n",
       "      <td>54.0</td>\n",
       "      <td>31_40</td>\n",
       "    </tr>\n",
       "    <tr>\n",
       "      <th>4</th>\n",
       "      <td>deu</td>\n",
       "      <td>android</td>\n",
       "      <td>female</td>\n",
       "      <td>36</td>\n",
       "      <td>49.0</td>\n",
       "      <td>31_40</td>\n",
       "    </tr>\n",
       "  </tbody>\n",
       "</table>\n",
       "</div>"
      ],
      "text/plain": [
       "  COUNTRY   SOURCE     SEX  AGE  PRICE AGE_CAT\n",
       "0     bra  android    male   46   59.0   41_70\n",
       "1     usa  android    male   36   59.0   31_40\n",
       "2     fra  android  female   24   59.0   24_30\n",
       "3     usa      ios    male   32   54.0   31_40\n",
       "4     deu  android  female   36   49.0   31_40"
      ]
     },
     "execution_count": 30,
     "metadata": {},
     "output_type": "execute_result"
    }
   ],
   "source": [
    "agg_df.head()"
   ]
  },
  {
   "cell_type": "markdown",
   "id": "21d8de24",
   "metadata": {
    "execution": {
     "iopub.execute_input": "2022-02-21T18:39:24.480289Z",
     "iopub.status.busy": "2022-02-21T18:39:24.477843Z",
     "iopub.status.idle": "2022-02-21T18:39:24.519283Z",
     "shell.execute_reply": "2022-02-21T18:39:24.517031Z",
     "shell.execute_reply.started": "2022-02-21T18:39:24.480013Z"
    },
    "papermill": {
     "duration": 0.071929,
     "end_time": "2022-02-21T19:36:55.038372",
     "exception": false,
     "start_time": "2022-02-21T19:36:54.966443",
     "status": "completed"
    },
    "tags": []
   },
   "source": [
    "**Section 15: Creating personas for each user**"
   ]
  },
  {
   "cell_type": "code",
   "execution_count": 31,
   "id": "6de299dd",
   "metadata": {
    "execution": {
     "iopub.execute_input": "2022-02-21T19:36:55.184941Z",
     "iopub.status.busy": "2022-02-21T19:36:55.184239Z",
     "iopub.status.idle": "2022-02-21T19:36:55.187299Z",
     "shell.execute_reply": "2022-02-21T19:36:55.186753Z",
     "shell.execute_reply.started": "2022-02-21T18:49:37.499731Z"
    },
    "papermill": {
     "duration": 0.078805,
     "end_time": "2022-02-21T19:36:55.187453",
     "exception": false,
     "start_time": "2022-02-21T19:36:55.108648",
     "status": "completed"
    },
    "tags": []
   },
   "outputs": [],
   "source": [
    "def create_persona(dataframe, new_col_name):\n",
    "    dataframe[new_col_name] = dataframe.loc[:,[\"COUNTRY\", \"SOURCE\", \"SEX\", \"AGE_CAT\"]] \\\n",
    "        .apply(lambda x: \"_\".join(x.str.upper()), axis=1)\n",
    "\n",
    "    return dataframe.groupby([new_col_name])[\"PRICE\"].mean().reset_index().sort_values(by=\"PRICE\", ascending=False)"
   ]
  },
  {
   "cell_type": "code",
   "execution_count": 32,
   "id": "9944d21d",
   "metadata": {
    "execution": {
     "iopub.execute_input": "2022-02-21T19:36:55.331703Z",
     "iopub.status.busy": "2022-02-21T19:36:55.331033Z",
     "iopub.status.idle": "2022-02-21T19:36:55.403886Z",
     "shell.execute_reply": "2022-02-21T19:36:55.404386Z",
     "shell.execute_reply.started": "2022-02-21T18:51:59.644946Z"
    },
    "papermill": {
     "duration": 0.148202,
     "end_time": "2022-02-21T19:36:55.404570",
     "exception": false,
     "start_time": "2022-02-21T19:36:55.256368",
     "status": "completed"
    },
    "tags": []
   },
   "outputs": [
    {
     "data": {
      "text/html": [
       "<div>\n",
       "<style scoped>\n",
       "    .dataframe tbody tr th:only-of-type {\n",
       "        vertical-align: middle;\n",
       "    }\n",
       "\n",
       "    .dataframe tbody tr th {\n",
       "        vertical-align: top;\n",
       "    }\n",
       "\n",
       "    .dataframe thead th {\n",
       "        text-align: right;\n",
       "    }\n",
       "</style>\n",
       "<table border=\"1\" class=\"dataframe\">\n",
       "  <thead>\n",
       "    <tr style=\"text-align: right;\">\n",
       "      <th></th>\n",
       "      <th>customer_levels</th>\n",
       "      <th>PRICE</th>\n",
       "    </tr>\n",
       "  </thead>\n",
       "  <tbody>\n",
       "    <tr>\n",
       "      <th>54</th>\n",
       "      <td>FRA_ANDROID_FEMALE_24_30</td>\n",
       "      <td>45.428571</td>\n",
       "    </tr>\n",
       "    <tr>\n",
       "      <th>86</th>\n",
       "      <td>TUR_IOS_MALE_24_30</td>\n",
       "      <td>45.000000</td>\n",
       "    </tr>\n",
       "    <tr>\n",
       "      <th>87</th>\n",
       "      <td>TUR_IOS_MALE_31_40</td>\n",
       "      <td>42.333333</td>\n",
       "    </tr>\n",
       "    <tr>\n",
       "      <th>72</th>\n",
       "      <td>TUR_ANDROID_FEMALE_31_40</td>\n",
       "      <td>41.833333</td>\n",
       "    </tr>\n",
       "    <tr>\n",
       "      <th>25</th>\n",
       "      <td>CAN_ANDROID_MALE_19_23</td>\n",
       "      <td>40.111111</td>\n",
       "    </tr>\n",
       "    <tr>\n",
       "      <th>...</th>\n",
       "      <td>...</td>\n",
       "      <td>...</td>\n",
       "    </tr>\n",
       "    <tr>\n",
       "      <th>88</th>\n",
       "      <td>TUR_IOS_MALE_41_70</td>\n",
       "      <td>25.052632</td>\n",
       "    </tr>\n",
       "    <tr>\n",
       "      <th>85</th>\n",
       "      <td>TUR_IOS_MALE_19_23</td>\n",
       "      <td>24.833333</td>\n",
       "    </tr>\n",
       "    <tr>\n",
       "      <th>56</th>\n",
       "      <td>FRA_ANDROID_MALE_0_18</td>\n",
       "      <td>24.625000</td>\n",
       "    </tr>\n",
       "    <tr>\n",
       "      <th>22</th>\n",
       "      <td>CAN_ANDROID_FEMALE_24_30</td>\n",
       "      <td>19.000000</td>\n",
       "    </tr>\n",
       "    <tr>\n",
       "      <th>41</th>\n",
       "      <td>DEU_ANDROID_MALE_24_30</td>\n",
       "      <td>19.000000</td>\n",
       "    </tr>\n",
       "  </tbody>\n",
       "</table>\n",
       "<p>109 rows × 2 columns</p>\n",
       "</div>"
      ],
      "text/plain": [
       "             customer_levels      PRICE\n",
       "54  FRA_ANDROID_FEMALE_24_30  45.428571\n",
       "86        TUR_IOS_MALE_24_30  45.000000\n",
       "87        TUR_IOS_MALE_31_40  42.333333\n",
       "72  TUR_ANDROID_FEMALE_31_40  41.833333\n",
       "25    CAN_ANDROID_MALE_19_23  40.111111\n",
       "..                       ...        ...\n",
       "88        TUR_IOS_MALE_41_70  25.052632\n",
       "85        TUR_IOS_MALE_19_23  24.833333\n",
       "56     FRA_ANDROID_MALE_0_18  24.625000\n",
       "22  CAN_ANDROID_FEMALE_24_30  19.000000\n",
       "41    DEU_ANDROID_MALE_24_30  19.000000\n",
       "\n",
       "[109 rows x 2 columns]"
      ]
     },
     "execution_count": 32,
     "metadata": {},
     "output_type": "execute_result"
    }
   ],
   "source": [
    "create_persona(agg_df, \"customer_levels\")"
   ]
  },
  {
   "cell_type": "markdown",
   "id": "e4fad88c",
   "metadata": {
    "papermill": {
     "duration": 0.068568,
     "end_time": "2022-02-21T19:36:55.542732",
     "exception": false,
     "start_time": "2022-02-21T19:36:55.474164",
     "status": "completed"
    },
    "tags": []
   },
   "source": [
    "**Section 16: Creating Segments based on Prices**"
   ]
  },
  {
   "cell_type": "code",
   "execution_count": 33,
   "id": "5a4f5bf3",
   "metadata": {
    "execution": {
     "iopub.execute_input": "2022-02-21T19:36:55.685159Z",
     "iopub.status.busy": "2022-02-21T19:36:55.684407Z",
     "iopub.status.idle": "2022-02-21T19:36:55.692162Z",
     "shell.execute_reply": "2022-02-21T19:36:55.691563Z",
     "shell.execute_reply.started": "2022-02-21T18:55:38.986266Z"
    },
    "papermill": {
     "duration": 0.080872,
     "end_time": "2022-02-21T19:36:55.692300",
     "exception": false,
     "start_time": "2022-02-21T19:36:55.611428",
     "status": "completed"
    },
    "tags": []
   },
   "outputs": [],
   "source": [
    "agg_df[\"SEGMENT\"] = pd.qcut(agg_df[\"PRICE\"], 4, labels = [\"D\", \"C\", \"B\", \"A\"]) # (A: best, D: worst)"
   ]
  },
  {
   "cell_type": "markdown",
   "id": "a11de786",
   "metadata": {
    "papermill": {
     "duration": 0.067928,
     "end_time": "2022-02-21T19:36:55.829326",
     "exception": false,
     "start_time": "2022-02-21T19:36:55.761398",
     "status": "completed"
    },
    "tags": []
   },
   "source": [
    "Now we have the rule-based classified data"
   ]
  },
  {
   "cell_type": "code",
   "execution_count": 34,
   "id": "a7d3ad91",
   "metadata": {
    "execution": {
     "iopub.execute_input": "2022-02-21T19:36:55.971540Z",
     "iopub.status.busy": "2022-02-21T19:36:55.970910Z",
     "iopub.status.idle": "2022-02-21T19:36:55.984137Z",
     "shell.execute_reply": "2022-02-21T19:36:55.984661Z",
     "shell.execute_reply.started": "2022-02-21T18:56:58.563975Z"
    },
    "papermill": {
     "duration": 0.086635,
     "end_time": "2022-02-21T19:36:55.984834",
     "exception": false,
     "start_time": "2022-02-21T19:36:55.898199",
     "status": "completed"
    },
    "tags": []
   },
   "outputs": [
    {
     "data": {
      "text/html": [
       "<div>\n",
       "<style scoped>\n",
       "    .dataframe tbody tr th:only-of-type {\n",
       "        vertical-align: middle;\n",
       "    }\n",
       "\n",
       "    .dataframe tbody tr th {\n",
       "        vertical-align: top;\n",
       "    }\n",
       "\n",
       "    .dataframe thead th {\n",
       "        text-align: right;\n",
       "    }\n",
       "</style>\n",
       "<table border=\"1\" class=\"dataframe\">\n",
       "  <thead>\n",
       "    <tr style=\"text-align: right;\">\n",
       "      <th></th>\n",
       "      <th>COUNTRY</th>\n",
       "      <th>SOURCE</th>\n",
       "      <th>SEX</th>\n",
       "      <th>AGE</th>\n",
       "      <th>PRICE</th>\n",
       "      <th>AGE_CAT</th>\n",
       "      <th>customer_levels</th>\n",
       "      <th>SEGMENT</th>\n",
       "    </tr>\n",
       "  </thead>\n",
       "  <tbody>\n",
       "    <tr>\n",
       "      <th>0</th>\n",
       "      <td>bra</td>\n",
       "      <td>android</td>\n",
       "      <td>male</td>\n",
       "      <td>46</td>\n",
       "      <td>59.0</td>\n",
       "      <td>41_70</td>\n",
       "      <td>BRA_ANDROID_MALE_41_70</td>\n",
       "      <td>A</td>\n",
       "    </tr>\n",
       "    <tr>\n",
       "      <th>1</th>\n",
       "      <td>usa</td>\n",
       "      <td>android</td>\n",
       "      <td>male</td>\n",
       "      <td>36</td>\n",
       "      <td>59.0</td>\n",
       "      <td>31_40</td>\n",
       "      <td>USA_ANDROID_MALE_31_40</td>\n",
       "      <td>A</td>\n",
       "    </tr>\n",
       "    <tr>\n",
       "      <th>2</th>\n",
       "      <td>fra</td>\n",
       "      <td>android</td>\n",
       "      <td>female</td>\n",
       "      <td>24</td>\n",
       "      <td>59.0</td>\n",
       "      <td>24_30</td>\n",
       "      <td>FRA_ANDROID_FEMALE_24_30</td>\n",
       "      <td>A</td>\n",
       "    </tr>\n",
       "    <tr>\n",
       "      <th>3</th>\n",
       "      <td>usa</td>\n",
       "      <td>ios</td>\n",
       "      <td>male</td>\n",
       "      <td>32</td>\n",
       "      <td>54.0</td>\n",
       "      <td>31_40</td>\n",
       "      <td>USA_IOS_MALE_31_40</td>\n",
       "      <td>A</td>\n",
       "    </tr>\n",
       "    <tr>\n",
       "      <th>4</th>\n",
       "      <td>deu</td>\n",
       "      <td>android</td>\n",
       "      <td>female</td>\n",
       "      <td>36</td>\n",
       "      <td>49.0</td>\n",
       "      <td>31_40</td>\n",
       "      <td>DEU_ANDROID_FEMALE_31_40</td>\n",
       "      <td>A</td>\n",
       "    </tr>\n",
       "  </tbody>\n",
       "</table>\n",
       "</div>"
      ],
      "text/plain": [
       "  COUNTRY   SOURCE     SEX  AGE  PRICE AGE_CAT           customer_levels  \\\n",
       "0     bra  android    male   46   59.0   41_70    BRA_ANDROID_MALE_41_70   \n",
       "1     usa  android    male   36   59.0   31_40    USA_ANDROID_MALE_31_40   \n",
       "2     fra  android  female   24   59.0   24_30  FRA_ANDROID_FEMALE_24_30   \n",
       "3     usa      ios    male   32   54.0   31_40        USA_IOS_MALE_31_40   \n",
       "4     deu  android  female   36   49.0   31_40  DEU_ANDROID_FEMALE_31_40   \n",
       "\n",
       "  SEGMENT  \n",
       "0       A  \n",
       "1       A  \n",
       "2       A  \n",
       "3       A  \n",
       "4       A  "
      ]
     },
     "execution_count": 34,
     "metadata": {},
     "output_type": "execute_result"
    }
   ],
   "source": [
    "agg_df.head() # attention to PRICE and SEGMENT group "
   ]
  },
  {
   "cell_type": "code",
   "execution_count": 35,
   "id": "56702c0b",
   "metadata": {
    "execution": {
     "iopub.execute_input": "2022-02-21T19:36:56.136965Z",
     "iopub.status.busy": "2022-02-21T19:36:56.125249Z",
     "iopub.status.idle": "2022-02-21T19:36:56.139266Z",
     "shell.execute_reply": "2022-02-21T19:36:56.139733Z",
     "shell.execute_reply.started": "2022-02-21T19:12:27.733546Z"
    },
    "papermill": {
     "duration": 0.086392,
     "end_time": "2022-02-21T19:36:56.139909",
     "exception": false,
     "start_time": "2022-02-21T19:36:56.053517",
     "status": "completed"
    },
    "tags": []
   },
   "outputs": [
    {
     "data": {
      "text/html": [
       "<div>\n",
       "<style scoped>\n",
       "    .dataframe tbody tr th:only-of-type {\n",
       "        vertical-align: middle;\n",
       "    }\n",
       "\n",
       "    .dataframe tbody tr th {\n",
       "        vertical-align: top;\n",
       "    }\n",
       "\n",
       "    .dataframe thead th {\n",
       "        text-align: right;\n",
       "    }\n",
       "</style>\n",
       "<table border=\"1\" class=\"dataframe\">\n",
       "  <thead>\n",
       "    <tr style=\"text-align: right;\">\n",
       "      <th></th>\n",
       "      <th>COUNTRY</th>\n",
       "      <th>SOURCE</th>\n",
       "      <th>SEX</th>\n",
       "      <th>AGE</th>\n",
       "      <th>PRICE</th>\n",
       "      <th>AGE_CAT</th>\n",
       "      <th>customer_levels</th>\n",
       "      <th>SEGMENT</th>\n",
       "    </tr>\n",
       "  </thead>\n",
       "  <tbody>\n",
       "    <tr>\n",
       "      <th>343</th>\n",
       "      <td>usa</td>\n",
       "      <td>ios</td>\n",
       "      <td>female</td>\n",
       "      <td>38</td>\n",
       "      <td>19.0</td>\n",
       "      <td>31_40</td>\n",
       "      <td>USA_IOS_FEMALE_31_40</td>\n",
       "      <td>D</td>\n",
       "    </tr>\n",
       "    <tr>\n",
       "      <th>344</th>\n",
       "      <td>usa</td>\n",
       "      <td>ios</td>\n",
       "      <td>female</td>\n",
       "      <td>30</td>\n",
       "      <td>19.0</td>\n",
       "      <td>24_30</td>\n",
       "      <td>USA_IOS_FEMALE_24_30</td>\n",
       "      <td>D</td>\n",
       "    </tr>\n",
       "    <tr>\n",
       "      <th>345</th>\n",
       "      <td>can</td>\n",
       "      <td>android</td>\n",
       "      <td>female</td>\n",
       "      <td>27</td>\n",
       "      <td>19.0</td>\n",
       "      <td>24_30</td>\n",
       "      <td>CAN_ANDROID_FEMALE_24_30</td>\n",
       "      <td>D</td>\n",
       "    </tr>\n",
       "    <tr>\n",
       "      <th>346</th>\n",
       "      <td>fra</td>\n",
       "      <td>android</td>\n",
       "      <td>male</td>\n",
       "      <td>18</td>\n",
       "      <td>19.0</td>\n",
       "      <td>0_18</td>\n",
       "      <td>FRA_ANDROID_MALE_0_18</td>\n",
       "      <td>D</td>\n",
       "    </tr>\n",
       "    <tr>\n",
       "      <th>347</th>\n",
       "      <td>deu</td>\n",
       "      <td>android</td>\n",
       "      <td>male</td>\n",
       "      <td>26</td>\n",
       "      <td>9.0</td>\n",
       "      <td>24_30</td>\n",
       "      <td>DEU_ANDROID_MALE_24_30</td>\n",
       "      <td>D</td>\n",
       "    </tr>\n",
       "  </tbody>\n",
       "</table>\n",
       "</div>"
      ],
      "text/plain": [
       "    COUNTRY   SOURCE     SEX  AGE  PRICE AGE_CAT           customer_levels  \\\n",
       "343     usa      ios  female   38   19.0   31_40      USA_IOS_FEMALE_31_40   \n",
       "344     usa      ios  female   30   19.0   24_30      USA_IOS_FEMALE_24_30   \n",
       "345     can  android  female   27   19.0   24_30  CAN_ANDROID_FEMALE_24_30   \n",
       "346     fra  android    male   18   19.0    0_18     FRA_ANDROID_MALE_0_18   \n",
       "347     deu  android    male   26    9.0   24_30    DEU_ANDROID_MALE_24_30   \n",
       "\n",
       "    SEGMENT  \n",
       "343       D  \n",
       "344       D  \n",
       "345       D  \n",
       "346       D  \n",
       "347       D  "
      ]
     },
     "execution_count": 35,
     "metadata": {},
     "output_type": "execute_result"
    }
   ],
   "source": [
    "agg_df.tail() # attention to PRICE and SEGMENT group "
   ]
  },
  {
   "cell_type": "markdown",
   "id": "75ce6ac9",
   "metadata": {
    "papermill": {
     "duration": 0.069329,
     "end_time": "2022-02-21T19:36:56.278182",
     "exception": false,
     "start_time": "2022-02-21T19:36:56.208853",
     "status": "completed"
    },
    "tags": []
   },
   "source": [
    "Let's see the price information among client segments"
   ]
  },
  {
   "cell_type": "code",
   "execution_count": 36,
   "id": "81368bf3",
   "metadata": {
    "execution": {
     "iopub.execute_input": "2022-02-21T19:36:56.425145Z",
     "iopub.status.busy": "2022-02-21T19:36:56.422448Z",
     "iopub.status.idle": "2022-02-21T19:36:56.441565Z",
     "shell.execute_reply": "2022-02-21T19:36:56.440969Z",
     "shell.execute_reply.started": "2022-02-21T18:58:00.695026Z"
    },
    "papermill": {
     "duration": 0.091491,
     "end_time": "2022-02-21T19:36:56.441723",
     "exception": false,
     "start_time": "2022-02-21T19:36:56.350232",
     "status": "completed"
    },
    "tags": []
   },
   "outputs": [
    {
     "data": {
      "text/html": [
       "<div>\n",
       "<style scoped>\n",
       "    .dataframe tbody tr th:only-of-type {\n",
       "        vertical-align: middle;\n",
       "    }\n",
       "\n",
       "    .dataframe tbody tr th {\n",
       "        vertical-align: top;\n",
       "    }\n",
       "\n",
       "    .dataframe thead tr th {\n",
       "        text-align: left;\n",
       "    }\n",
       "\n",
       "    .dataframe thead tr:last-of-type th {\n",
       "        text-align: right;\n",
       "    }\n",
       "</style>\n",
       "<table border=\"1\" class=\"dataframe\">\n",
       "  <thead>\n",
       "    <tr>\n",
       "      <th></th>\n",
       "      <th colspan=\"4\" halign=\"left\">PRICE</th>\n",
       "    </tr>\n",
       "    <tr>\n",
       "      <th></th>\n",
       "      <th>min</th>\n",
       "      <th>max</th>\n",
       "      <th>mean</th>\n",
       "      <th>sum</th>\n",
       "    </tr>\n",
       "    <tr>\n",
       "      <th>SEGMENT</th>\n",
       "      <th></th>\n",
       "      <th></th>\n",
       "      <th></th>\n",
       "      <th></th>\n",
       "    </tr>\n",
       "  </thead>\n",
       "  <tbody>\n",
       "    <tr>\n",
       "      <th>D</th>\n",
       "      <td>9.000000</td>\n",
       "      <td>31.105263</td>\n",
       "      <td>27.302596</td>\n",
       "      <td>2375.325850</td>\n",
       "    </tr>\n",
       "    <tr>\n",
       "      <th>C</th>\n",
       "      <td>31.173913</td>\n",
       "      <td>34.000000</td>\n",
       "      <td>32.933339</td>\n",
       "      <td>3128.667165</td>\n",
       "    </tr>\n",
       "    <tr>\n",
       "      <th>B</th>\n",
       "      <td>34.185185</td>\n",
       "      <td>37.000000</td>\n",
       "      <td>35.436170</td>\n",
       "      <td>2870.329792</td>\n",
       "    </tr>\n",
       "    <tr>\n",
       "      <th>A</th>\n",
       "      <td>37.095238</td>\n",
       "      <td>59.000000</td>\n",
       "      <td>41.434736</td>\n",
       "      <td>3521.952577</td>\n",
       "    </tr>\n",
       "  </tbody>\n",
       "</table>\n",
       "</div>"
      ],
      "text/plain": [
       "             PRICE                                   \n",
       "               min        max       mean          sum\n",
       "SEGMENT                                              \n",
       "D         9.000000  31.105263  27.302596  2375.325850\n",
       "C        31.173913  34.000000  32.933339  3128.667165\n",
       "B        34.185185  37.000000  35.436170  2870.329792\n",
       "A        37.095238  59.000000  41.434736  3521.952577"
      ]
     },
     "execution_count": 36,
     "metadata": {},
     "output_type": "execute_result"
    }
   ],
   "source": [
    "agg_df.groupby(\"SEGMENT\").agg({\"PRICE\": [\"min\", \"max\", \"mean\",\"sum\"]}) # differences among client segments"
   ]
  },
  {
   "cell_type": "markdown",
   "id": "cd13db03",
   "metadata": {
    "papermill": {
     "duration": 0.07062,
     "end_time": "2022-02-21T19:36:56.582375",
     "exception": false,
     "start_time": "2022-02-21T19:36:56.511755",
     "status": "completed"
    },
    "tags": []
   },
   "source": [
    "Let's see the price information among personas"
   ]
  },
  {
   "cell_type": "code",
   "execution_count": 37,
   "id": "de8d3564",
   "metadata": {
    "execution": {
     "iopub.execute_input": "2022-02-21T19:36:56.728393Z",
     "iopub.status.busy": "2022-02-21T19:36:56.727649Z",
     "iopub.status.idle": "2022-02-21T19:36:56.745887Z",
     "shell.execute_reply": "2022-02-21T19:36:56.745335Z",
     "shell.execute_reply.started": "2022-02-21T19:11:40.584155Z"
    },
    "papermill": {
     "duration": 0.093311,
     "end_time": "2022-02-21T19:36:56.746025",
     "exception": false,
     "start_time": "2022-02-21T19:36:56.652714",
     "status": "completed"
    },
    "tags": []
   },
   "outputs": [
    {
     "data": {
      "text/html": [
       "<div>\n",
       "<style scoped>\n",
       "    .dataframe tbody tr th:only-of-type {\n",
       "        vertical-align: middle;\n",
       "    }\n",
       "\n",
       "    .dataframe tbody tr th {\n",
       "        vertical-align: top;\n",
       "    }\n",
       "\n",
       "    .dataframe thead tr th {\n",
       "        text-align: left;\n",
       "    }\n",
       "\n",
       "    .dataframe thead tr:last-of-type th {\n",
       "        text-align: right;\n",
       "    }\n",
       "</style>\n",
       "<table border=\"1\" class=\"dataframe\">\n",
       "  <thead>\n",
       "    <tr>\n",
       "      <th></th>\n",
       "      <th colspan=\"4\" halign=\"left\">PRICE</th>\n",
       "    </tr>\n",
       "    <tr>\n",
       "      <th></th>\n",
       "      <th>min</th>\n",
       "      <th>max</th>\n",
       "      <th>mean</th>\n",
       "      <th>sum</th>\n",
       "    </tr>\n",
       "    <tr>\n",
       "      <th>customer_levels</th>\n",
       "      <th></th>\n",
       "      <th></th>\n",
       "      <th></th>\n",
       "      <th></th>\n",
       "    </tr>\n",
       "  </thead>\n",
       "  <tbody>\n",
       "    <tr>\n",
       "      <th>BRA_ANDROID_FEMALE_0_18</th>\n",
       "      <td>32.255814</td>\n",
       "      <td>38.714286</td>\n",
       "      <td>35.645303</td>\n",
       "      <td>142.581211</td>\n",
       "    </tr>\n",
       "    <tr>\n",
       "      <th>BRA_ANDROID_FEMALE_19_23</th>\n",
       "      <td>31.000000</td>\n",
       "      <td>37.292683</td>\n",
       "      <td>34.077340</td>\n",
       "      <td>170.386702</td>\n",
       "    </tr>\n",
       "    <tr>\n",
       "      <th>BRA_ANDROID_FEMALE_24_30</th>\n",
       "      <td>22.333333</td>\n",
       "      <td>45.666667</td>\n",
       "      <td>33.863946</td>\n",
       "      <td>237.047619</td>\n",
       "    </tr>\n",
       "    <tr>\n",
       "      <th>BRA_ANDROID_FEMALE_31_40</th>\n",
       "      <td>24.000000</td>\n",
       "      <td>43.000000</td>\n",
       "      <td>34.898326</td>\n",
       "      <td>209.389959</td>\n",
       "    </tr>\n",
       "    <tr>\n",
       "      <th>BRA_ANDROID_FEMALE_41_70</th>\n",
       "      <td>32.333333</td>\n",
       "      <td>44.000000</td>\n",
       "      <td>36.737179</td>\n",
       "      <td>146.948718</td>\n",
       "    </tr>\n",
       "    <tr>\n",
       "      <th>...</th>\n",
       "      <td>...</td>\n",
       "      <td>...</td>\n",
       "      <td>...</td>\n",
       "      <td>...</td>\n",
       "    </tr>\n",
       "    <tr>\n",
       "      <th>USA_IOS_MALE_0_18</th>\n",
       "      <td>32.913043</td>\n",
       "      <td>34.714286</td>\n",
       "      <td>33.983495</td>\n",
       "      <td>135.933982</td>\n",
       "    </tr>\n",
       "    <tr>\n",
       "      <th>USA_IOS_MALE_19_23</th>\n",
       "      <td>32.170732</td>\n",
       "      <td>38.534884</td>\n",
       "      <td>34.901872</td>\n",
       "      <td>104.705615</td>\n",
       "    </tr>\n",
       "    <tr>\n",
       "      <th>USA_IOS_MALE_24_30</th>\n",
       "      <td>24.000000</td>\n",
       "      <td>42.333333</td>\n",
       "      <td>34.838143</td>\n",
       "      <td>209.028860</td>\n",
       "    </tr>\n",
       "    <tr>\n",
       "      <th>USA_IOS_MALE_31_40</th>\n",
       "      <td>24.000000</td>\n",
       "      <td>54.000000</td>\n",
       "      <td>36.206324</td>\n",
       "      <td>181.031621</td>\n",
       "    </tr>\n",
       "    <tr>\n",
       "      <th>USA_IOS_MALE_41_70</th>\n",
       "      <td>29.000000</td>\n",
       "      <td>46.500000</td>\n",
       "      <td>35.750000</td>\n",
       "      <td>178.750000</td>\n",
       "    </tr>\n",
       "  </tbody>\n",
       "</table>\n",
       "<p>109 rows × 4 columns</p>\n",
       "</div>"
      ],
      "text/plain": [
       "                              PRICE                                  \n",
       "                                min        max       mean         sum\n",
       "customer_levels                                                      \n",
       "BRA_ANDROID_FEMALE_0_18   32.255814  38.714286  35.645303  142.581211\n",
       "BRA_ANDROID_FEMALE_19_23  31.000000  37.292683  34.077340  170.386702\n",
       "BRA_ANDROID_FEMALE_24_30  22.333333  45.666667  33.863946  237.047619\n",
       "BRA_ANDROID_FEMALE_31_40  24.000000  43.000000  34.898326  209.389959\n",
       "BRA_ANDROID_FEMALE_41_70  32.333333  44.000000  36.737179  146.948718\n",
       "...                             ...        ...        ...         ...\n",
       "USA_IOS_MALE_0_18         32.913043  34.714286  33.983495  135.933982\n",
       "USA_IOS_MALE_19_23        32.170732  38.534884  34.901872  104.705615\n",
       "USA_IOS_MALE_24_30        24.000000  42.333333  34.838143  209.028860\n",
       "USA_IOS_MALE_31_40        24.000000  54.000000  36.206324  181.031621\n",
       "USA_IOS_MALE_41_70        29.000000  46.500000  35.750000  178.750000\n",
       "\n",
       "[109 rows x 4 columns]"
      ]
     },
     "execution_count": 37,
     "metadata": {},
     "output_type": "execute_result"
    }
   ],
   "source": [
    "agg_df.groupby(\"customer_levels\").agg({\"PRICE\": [\"min\", \"max\", \"mean\",\"sum\"]}) # differences among personas"
   ]
  },
  {
   "cell_type": "code",
   "execution_count": 38,
   "id": "9f9a55c8",
   "metadata": {
    "execution": {
     "iopub.execute_input": "2022-02-21T19:36:56.899948Z",
     "iopub.status.busy": "2022-02-21T19:36:56.894705Z",
     "iopub.status.idle": "2022-02-21T19:36:56.916036Z",
     "shell.execute_reply": "2022-02-21T19:36:56.916501Z",
     "shell.execute_reply.started": "2022-02-21T19:02:01.255670Z"
    },
    "papermill": {
     "duration": 0.099356,
     "end_time": "2022-02-21T19:36:56.916718",
     "exception": false,
     "start_time": "2022-02-21T19:36:56.817362",
     "status": "completed"
    },
    "tags": []
   },
   "outputs": [
    {
     "data": {
      "text/html": [
       "<div>\n",
       "<style scoped>\n",
       "    .dataframe tbody tr th:only-of-type {\n",
       "        vertical-align: middle;\n",
       "    }\n",
       "\n",
       "    .dataframe tbody tr th {\n",
       "        vertical-align: top;\n",
       "    }\n",
       "\n",
       "    .dataframe thead th {\n",
       "        text-align: right;\n",
       "    }\n",
       "</style>\n",
       "<table border=\"1\" class=\"dataframe\">\n",
       "  <thead>\n",
       "    <tr style=\"text-align: right;\">\n",
       "      <th></th>\n",
       "      <th></th>\n",
       "      <th>PRICE</th>\n",
       "    </tr>\n",
       "    <tr>\n",
       "      <th>SEGMENT</th>\n",
       "      <th>customer_levels</th>\n",
       "      <th></th>\n",
       "    </tr>\n",
       "  </thead>\n",
       "  <tbody>\n",
       "    <tr>\n",
       "      <th rowspan=\"5\" valign=\"top\">D</th>\n",
       "      <th>BRA_ANDROID_FEMALE_0_18</th>\n",
       "      <td>NaN</td>\n",
       "    </tr>\n",
       "    <tr>\n",
       "      <th>BRA_ANDROID_FEMALE_19_23</th>\n",
       "      <td>31.000000</td>\n",
       "    </tr>\n",
       "    <tr>\n",
       "      <th>BRA_ANDROID_FEMALE_24_30</th>\n",
       "      <td>24.238095</td>\n",
       "    </tr>\n",
       "    <tr>\n",
       "      <th>BRA_ANDROID_FEMALE_31_40</th>\n",
       "      <td>24.000000</td>\n",
       "    </tr>\n",
       "    <tr>\n",
       "      <th>BRA_ANDROID_FEMALE_41_70</th>\n",
       "      <td>NaN</td>\n",
       "    </tr>\n",
       "    <tr>\n",
       "      <th>...</th>\n",
       "      <th>...</th>\n",
       "      <td>...</td>\n",
       "    </tr>\n",
       "    <tr>\n",
       "      <th rowspan=\"5\" valign=\"top\">A</th>\n",
       "      <th>USA_IOS_MALE_0_18</th>\n",
       "      <td>NaN</td>\n",
       "    </tr>\n",
       "    <tr>\n",
       "      <th>USA_IOS_MALE_19_23</th>\n",
       "      <td>38.534884</td>\n",
       "    </tr>\n",
       "    <tr>\n",
       "      <th>USA_IOS_MALE_24_30</th>\n",
       "      <td>42.030303</td>\n",
       "    </tr>\n",
       "    <tr>\n",
       "      <th>USA_IOS_MALE_31_40</th>\n",
       "      <td>47.500000</td>\n",
       "    </tr>\n",
       "    <tr>\n",
       "      <th>USA_IOS_MALE_41_70</th>\n",
       "      <td>42.750000</td>\n",
       "    </tr>\n",
       "  </tbody>\n",
       "</table>\n",
       "<p>436 rows × 1 columns</p>\n",
       "</div>"
      ],
      "text/plain": [
       "                                      PRICE\n",
       "SEGMENT customer_levels                    \n",
       "D       BRA_ANDROID_FEMALE_0_18         NaN\n",
       "        BRA_ANDROID_FEMALE_19_23  31.000000\n",
       "        BRA_ANDROID_FEMALE_24_30  24.238095\n",
       "        BRA_ANDROID_FEMALE_31_40  24.000000\n",
       "        BRA_ANDROID_FEMALE_41_70        NaN\n",
       "...                                     ...\n",
       "A       USA_IOS_MALE_0_18               NaN\n",
       "        USA_IOS_MALE_19_23        38.534884\n",
       "        USA_IOS_MALE_24_30        42.030303\n",
       "        USA_IOS_MALE_31_40        47.500000\n",
       "        USA_IOS_MALE_41_70        42.750000\n",
       "\n",
       "[436 rows x 1 columns]"
      ]
     },
     "execution_count": 38,
     "metadata": {},
     "output_type": "execute_result"
    }
   ],
   "source": [
    "agg_df.groupby([\"SEGMENT\", \"customer_levels\"]).agg({\"PRICE\":\n",
    "                                                   \"mean\"}) \n",
    "# differences among customer personas and segments in terms of average price"
   ]
  },
  {
   "cell_type": "markdown",
   "id": "2c8bdaa1",
   "metadata": {
    "papermill": {
     "duration": 0.072095,
     "end_time": "2022-02-21T19:36:57.061557",
     "exception": false,
     "start_time": "2022-02-21T19:36:56.989462",
     "status": "completed"
    },
    "tags": []
   },
   "source": [
    "**Section 17: Estimating Client Segment for New Users by Using Personas**"
   ]
  },
  {
   "cell_type": "code",
   "execution_count": 39,
   "id": "46bc93fb",
   "metadata": {
    "execution": {
     "iopub.execute_input": "2022-02-21T19:36:57.210755Z",
     "iopub.status.busy": "2022-02-21T19:36:57.209766Z",
     "iopub.status.idle": "2022-02-21T19:36:57.212348Z",
     "shell.execute_reply": "2022-02-21T19:36:57.211821Z",
     "shell.execute_reply.started": "2022-02-21T19:25:50.240418Z"
    },
    "papermill": {
     "duration": 0.079362,
     "end_time": "2022-02-21T19:36:57.212488",
     "exception": false,
     "start_time": "2022-02-21T19:36:57.133126",
     "status": "completed"
    },
    "tags": []
   },
   "outputs": [],
   "source": [
    "new_user = 'TUR_ANDROID_FEMALE_31_40' # A female Turkish client in age group 31-40 is in Segment A"
   ]
  },
  {
   "cell_type": "code",
   "execution_count": 40,
   "id": "7cddba8b",
   "metadata": {
    "execution": {
     "iopub.execute_input": "2022-02-21T19:36:57.358313Z",
     "iopub.status.busy": "2022-02-21T19:36:57.357678Z",
     "iopub.status.idle": "2022-02-21T19:36:57.371650Z",
     "shell.execute_reply": "2022-02-21T19:36:57.372180Z",
     "shell.execute_reply.started": "2022-02-21T19:25:54.009552Z"
    },
    "papermill": {
     "duration": 0.088374,
     "end_time": "2022-02-21T19:36:57.372363",
     "exception": false,
     "start_time": "2022-02-21T19:36:57.283989",
     "status": "completed"
    },
    "tags": []
   },
   "outputs": [
    {
     "data": {
      "text/html": [
       "<div>\n",
       "<style scoped>\n",
       "    .dataframe tbody tr th:only-of-type {\n",
       "        vertical-align: middle;\n",
       "    }\n",
       "\n",
       "    .dataframe tbody tr th {\n",
       "        vertical-align: top;\n",
       "    }\n",
       "\n",
       "    .dataframe thead th {\n",
       "        text-align: right;\n",
       "    }\n",
       "</style>\n",
       "<table border=\"1\" class=\"dataframe\">\n",
       "  <thead>\n",
       "    <tr style=\"text-align: right;\">\n",
       "      <th></th>\n",
       "      <th>COUNTRY</th>\n",
       "      <th>SOURCE</th>\n",
       "      <th>SEX</th>\n",
       "      <th>AGE</th>\n",
       "      <th>PRICE</th>\n",
       "      <th>AGE_CAT</th>\n",
       "      <th>customer_levels</th>\n",
       "      <th>SEGMENT</th>\n",
       "    </tr>\n",
       "  </thead>\n",
       "  <tbody>\n",
       "    <tr>\n",
       "      <th>18</th>\n",
       "      <td>tur</td>\n",
       "      <td>android</td>\n",
       "      <td>female</td>\n",
       "      <td>32</td>\n",
       "      <td>43.000000</td>\n",
       "      <td>31_40</td>\n",
       "      <td>TUR_ANDROID_FEMALE_31_40</td>\n",
       "      <td>A</td>\n",
       "    </tr>\n",
       "    <tr>\n",
       "      <th>35</th>\n",
       "      <td>tur</td>\n",
       "      <td>android</td>\n",
       "      <td>female</td>\n",
       "      <td>31</td>\n",
       "      <td>40.666667</td>\n",
       "      <td>31_40</td>\n",
       "      <td>TUR_ANDROID_FEMALE_31_40</td>\n",
       "      <td>A</td>\n",
       "    </tr>\n",
       "  </tbody>\n",
       "</table>\n",
       "</div>"
      ],
      "text/plain": [
       "   COUNTRY   SOURCE     SEX  AGE      PRICE AGE_CAT           customer_levels  \\\n",
       "18     tur  android  female   32  43.000000   31_40  TUR_ANDROID_FEMALE_31_40   \n",
       "35     tur  android  female   31  40.666667   31_40  TUR_ANDROID_FEMALE_31_40   \n",
       "\n",
       "   SEGMENT  \n",
       "18       A  \n",
       "35       A  "
      ]
     },
     "execution_count": 40,
     "metadata": {},
     "output_type": "execute_result"
    }
   ],
   "source": [
    "agg_df[agg_df[\"customer_levels\"] == new_user] "
   ]
  },
  {
   "cell_type": "code",
   "execution_count": 41,
   "id": "2bc67bed",
   "metadata": {
    "execution": {
     "iopub.execute_input": "2022-02-21T19:36:57.519977Z",
     "iopub.status.busy": "2022-02-21T19:36:57.519288Z",
     "iopub.status.idle": "2022-02-21T19:36:57.522595Z",
     "shell.execute_reply": "2022-02-21T19:36:57.523088Z",
     "shell.execute_reply.started": "2022-02-21T19:27:46.793179Z"
    },
    "papermill": {
     "duration": 0.078712,
     "end_time": "2022-02-21T19:36:57.523256",
     "exception": false,
     "start_time": "2022-02-21T19:36:57.444544",
     "status": "completed"
    },
    "tags": []
   },
   "outputs": [],
   "source": [
    "new_user = 'FRA_IOS_FEMALE_31_40' # A female French client in age group 31-40 is in Segment C"
   ]
  },
  {
   "cell_type": "code",
   "execution_count": 42,
   "id": "e26d6e17",
   "metadata": {
    "execution": {
     "iopub.execute_input": "2022-02-21T19:36:57.670186Z",
     "iopub.status.busy": "2022-02-21T19:36:57.669436Z",
     "iopub.status.idle": "2022-02-21T19:36:57.682852Z",
     "shell.execute_reply": "2022-02-21T19:36:57.683352Z",
     "shell.execute_reply.started": "2022-02-21T19:27:53.264987Z"
    },
    "papermill": {
     "duration": 0.088815,
     "end_time": "2022-02-21T19:36:57.683522",
     "exception": false,
     "start_time": "2022-02-21T19:36:57.594707",
     "status": "completed"
    },
    "tags": []
   },
   "outputs": [
    {
     "data": {
      "text/html": [
       "<div>\n",
       "<style scoped>\n",
       "    .dataframe tbody tr th:only-of-type {\n",
       "        vertical-align: middle;\n",
       "    }\n",
       "\n",
       "    .dataframe tbody tr th {\n",
       "        vertical-align: top;\n",
       "    }\n",
       "\n",
       "    .dataframe thead th {\n",
       "        text-align: right;\n",
       "    }\n",
       "</style>\n",
       "<table border=\"1\" class=\"dataframe\">\n",
       "  <thead>\n",
       "    <tr style=\"text-align: right;\">\n",
       "      <th></th>\n",
       "      <th>COUNTRY</th>\n",
       "      <th>SOURCE</th>\n",
       "      <th>SEX</th>\n",
       "      <th>AGE</th>\n",
       "      <th>PRICE</th>\n",
       "      <th>AGE_CAT</th>\n",
       "      <th>customer_levels</th>\n",
       "      <th>SEGMENT</th>\n",
       "    </tr>\n",
       "  </thead>\n",
       "  <tbody>\n",
       "    <tr>\n",
       "      <th>208</th>\n",
       "      <td>fra</td>\n",
       "      <td>ios</td>\n",
       "      <td>female</td>\n",
       "      <td>40</td>\n",
       "      <td>33.000000</td>\n",
       "      <td>31_40</td>\n",
       "      <td>FRA_IOS_FEMALE_31_40</td>\n",
       "      <td>C</td>\n",
       "    </tr>\n",
       "    <tr>\n",
       "      <th>221</th>\n",
       "      <td>fra</td>\n",
       "      <td>ios</td>\n",
       "      <td>female</td>\n",
       "      <td>31</td>\n",
       "      <td>32.636364</td>\n",
       "      <td>31_40</td>\n",
       "      <td>FRA_IOS_FEMALE_31_40</td>\n",
       "      <td>C</td>\n",
       "    </tr>\n",
       "  </tbody>\n",
       "</table>\n",
       "</div>"
      ],
      "text/plain": [
       "    COUNTRY SOURCE     SEX  AGE      PRICE AGE_CAT       customer_levels  \\\n",
       "208     fra    ios  female   40  33.000000   31_40  FRA_IOS_FEMALE_31_40   \n",
       "221     fra    ios  female   31  32.636364   31_40  FRA_IOS_FEMALE_31_40   \n",
       "\n",
       "    SEGMENT  \n",
       "208       C  \n",
       "221       C  "
      ]
     },
     "execution_count": 42,
     "metadata": {},
     "output_type": "execute_result"
    }
   ],
   "source": [
    "agg_df[agg_df[\"customer_levels\"] == new_user]"
   ]
  },
  {
   "cell_type": "markdown",
   "id": "f8365203",
   "metadata": {
    "papermill": {
     "duration": 0.073155,
     "end_time": "2022-02-21T19:36:57.829673",
     "exception": false,
     "start_time": "2022-02-21T19:36:57.756518",
     "status": "completed"
    },
    "tags": []
   },
   "source": [
    "Reference: https://www.miuul.com/"
   ]
  }
 ],
 "metadata": {
  "kernelspec": {
   "display_name": "Python 3",
   "language": "python",
   "name": "python3"
  },
  "language_info": {
   "codemirror_mode": {
    "name": "ipython",
    "version": 3
   },
   "file_extension": ".py",
   "mimetype": "text/x-python",
   "name": "python",
   "nbconvert_exporter": "python",
   "pygments_lexer": "ipython3",
   "version": "3.7.12"
  },
  "papermill": {
   "default_parameters": {},
   "duration": 20.435933,
   "end_time": "2022-02-21T19:36:58.512882",
   "environment_variables": {},
   "exception": null,
   "input_path": "__notebook__.ipynb",
   "output_path": "__notebook__.ipynb",
   "parameters": {},
   "start_time": "2022-02-21T19:36:38.076949",
   "version": "2.3.3"
  }
 },
 "nbformat": 4,
 "nbformat_minor": 5
}
