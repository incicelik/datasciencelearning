{
  "nbformat": 4,
  "nbformat_minor": 0,
  "metadata": {
    "colab": {
      "provenance": [],
      "include_colab_link": true
    },
    "kernelspec": {
      "name": "python3",
      "display_name": "Python 3"
    },
    "language_info": {
      "name": "python"
    }
  },
  "cells": [
    {
      "cell_type": "markdown",
      "metadata": {
        "id": "view-in-github",
        "colab_type": "text"
      },
      "source": [
        "<a href=\"https://colab.research.google.com/github/incicelik/datasciencelearning/blob/main/guided_project_2.ipynb\" target=\"_parent\"><img src=\"https://colab.research.google.com/assets/colab-badge.svg\" alt=\"Open In Colab\"/></a>"
      ]
    },
    {
      "cell_type": "markdown",
      "source": [
        "Object Oriented Programming"
      ],
      "metadata": {
        "id": "ajhXDVBNvFSR"
      }
    },
    {
      "cell_type": "markdown",
      "source": [
        "Part 1 - Health Insurance"
      ],
      "metadata": {
        "id": "_FzFDmXoxw_r"
      }
    },
    {
      "cell_type": "code",
      "source": [
        "class HealthInsurance:\n",
        "  def __init__(self, company_name, foundation_year, founder_name, company_slogan, num_of_employees, num_of_clients):\n",
        "    self.company_name = company_name\n",
        "    self.foundation_year = foundation_year\n",
        "    self.founder_name = founder_name\n",
        "    self.company_slogan = company_slogan\n",
        "    self.num_of_employees = num_of_employees\n",
        "    self.num_of_clients = num_of_clients\n",
        "\n",
        "  #define the print_report method\n",
        "  def print_method(self):\n",
        "    print(\n",
        "        f\"\"\"The company {self.company_name} was founded in {self.foundation_year}.\n",
        "        The founder of the company is {self.founder_name}.\n",
        "        Company slogan: {self.company_slogan}.\n",
        "        Number of employees: {self.num_of_employees}.\n",
        "        Number of clients: {self.num_of_clients}\n",
        "        \"\"\")\n",
        "  \n",
        "  #define the supplement health insurance\n",
        "  def sup_health_insurance(self, age, chronic_disease, income):\n",
        "    if age >= 60 and chronic_disease == True and income < 6000:\n",
        "      print(\"We are sorry. You are not eligible for supplemental health insurance.\")\n",
        "    elif age < 60 and income >= 6000 or chronic_disease == False:\n",
        "      print(\"Congrats! You can get supplemental health insurance.\") \n",
        "  \n",
        "  #define update_num_clients method\n",
        "  def update_num_clients(self, new_number):\n",
        "    self.num_of_clients = new_number\n",
        "    print(f\"Number of clients changed to {self.num_of_clients}\")\n",
        "\n"
      ],
      "metadata": {
        "id": "vIjZw2Nrltov"
      },
      "execution_count": 9,
      "outputs": []
    },
    {
      "cell_type": "code",
      "source": [
        "#Create the object HI_Company with its attributes\n",
        "HI_company1 = HealthInsurance(\"Healthy\", 2012, \"Bob Mayer\", \"We care for you\", 3500, 13230)"
      ],
      "metadata": {
        "id": "VVCXpOkIrHVv"
      },
      "execution_count": 5,
      "outputs": []
    },
    {
      "cell_type": "code",
      "source": [
        "#a new customer wants to register: 45 yrs old, no chronic disease, income 5000\n",
        "HI_company1.sup_health_insurance(45, False, 5000)"
      ],
      "metadata": {
        "colab": {
          "base_uri": "https://localhost:8080/"
        },
        "id": "ME4WZw8YsjAp",
        "outputId": "2f0c3629-85f0-4666-bd19-a749ca98ff2e"
      },
      "execution_count": 6,
      "outputs": [
        {
          "output_type": "stream",
          "name": "stdout",
          "text": [
            "Congrats! You can get supplemental health insurance.\n"
          ]
        }
      ]
    },
    {
      "cell_type": "code",
      "source": [
        "#number of customers increases\n",
        "HI_company1.update_num_clients(13231)"
      ],
      "metadata": {
        "colab": {
          "base_uri": "https://localhost:8080/"
        },
        "id": "1PfezXdXtZTN",
        "outputId": "9a879cc2-97a4-4eb9-a527-2e27cf6686ce"
      },
      "execution_count": 7,
      "outputs": [
        {
          "output_type": "stream",
          "name": "stdout",
          "text": [
            "Number of clients changed to 13231\n"
          ]
        }
      ]
    },
    {
      "cell_type": "code",
      "source": [
        "#print report methods\n",
        "HI_company1.print_method()"
      ],
      "metadata": {
        "colab": {
          "base_uri": "https://localhost:8080/"
        },
        "id": "sqKxlEhntwqi",
        "outputId": "585f1f27-b7b1-4294-c806-206bdfd1f255"
      },
      "execution_count": 10,
      "outputs": [
        {
          "output_type": "stream",
          "name": "stdout",
          "text": [
            "The companyHealthy was founded in 2012.\n",
            "        The founder of the company is Bob Mayer.\n",
            "        Company slogan: We care for you.\n",
            "        Number of employees: 3500.\n",
            "        Number of clients: 13231\n",
            "        \n"
          ]
        }
      ]
    },
    {
      "cell_type": "markdown",
      "source": [
        "Part 2 - Logistics"
      ],
      "metadata": {
        "id": "LVk2DJpovUVD"
      }
    },
    {
      "cell_type": "code",
      "source": [
        "class Logistic:\n",
        "  def __init__(self, company_name, foundation_year, founder_name, company_slogan, inventory_space):\n",
        "    self.company_name = company_name\n",
        "    self.foundation_year = foundation_year\n",
        "    self.founder_name = founder_name\n",
        "    self.company_slogan = company_slogan\n",
        "    self.inventory_space = inventory_space\n",
        "\n",
        "  def print_method(self):\n",
        "    print(\n",
        "        f\"\"\"The company {self.company_name} was founded in {self.foundation_year}.\n",
        "        The founder of the company is {self.founder_name}.\n",
        "        Company slogan: {self.company_slogan}.\n",
        "        Inventory space: {self.inventory_space}\n",
        "        \"\"\")\n",
        "  \n",
        "  def update_inventory_space (self, new_storage_space):\n",
        "    self.inventory_space = new_storage_space\n",
        "    print(f\"Inventroy space has been changed to {self.inventory_space}\")\n"
      ],
      "metadata": {
        "id": "xXeQjG1rvD6s"
      },
      "execution_count": 16,
      "outputs": []
    },
    {
      "cell_type": "code",
      "source": [
        "logistic_company1 = Logistic(\"LogCom\", 1990, \"Laura McCartey\", \"There is no place we cannot reach\", 2500)"
      ],
      "metadata": {
        "id": "282Nr5ImwnXh"
      },
      "execution_count": 17,
      "outputs": []
    },
    {
      "cell_type": "code",
      "source": [
        "logistic_company1.update_inventory_space(3000)\n"
      ],
      "metadata": {
        "colab": {
          "base_uri": "https://localhost:8080/"
        },
        "id": "X7IiwehDw4zt",
        "outputId": "9fef0fce-f5cd-43a6-eb70-40a5a6b3dea2"
      },
      "execution_count": 18,
      "outputs": [
        {
          "output_type": "stream",
          "name": "stdout",
          "text": [
            "Inventroy space has been changed to 3000\n"
          ]
        }
      ]
    },
    {
      "cell_type": "code",
      "source": [
        "logistic_company1.print_method()"
      ],
      "metadata": {
        "colab": {
          "base_uri": "https://localhost:8080/"
        },
        "id": "R8QRpw_9xS9I",
        "outputId": "a8cb81d5-f138-49a1-918d-f11b6d66fbbd"
      },
      "execution_count": 19,
      "outputs": [
        {
          "output_type": "stream",
          "name": "stdout",
          "text": [
            "The company LogCom was founded in 1990.\n",
            "        The founder of the company is Laura McCartey.\n",
            "        Company slogan: There is no place we cannot reach.\n",
            "        Inventory space: 3000\n",
            "        \n"
          ]
        }
      ]
    },
    {
      "cell_type": "markdown",
      "source": [
        "Part 3 - Trading"
      ],
      "metadata": {
        "id": "JZF-hZVFxk7Y"
      }
    },
    {
      "cell_type": "code",
      "source": [
        "class Trading:\n",
        "  def __init__(self, company_name, foundation_year, founder_name, company_slogan, sales, expenses, revenue):\n",
        "    self.company_name = company_name\n",
        "    self.foundation_year = foundation_year\n",
        "    self.founder_name = founder_name\n",
        "    self.company_slogan = company_slogan\n",
        "    self.sales = sales\n",
        "    self.expenses = expenses\n",
        "    self.revenue = revenue\n",
        "\n",
        "  def print_report(self):\n",
        "    print(\n",
        "        f\"\"\"The company {self.company_name} was founded in {self.foundation_year}.\n",
        "        The founder of the company is {self.founder_name}.\n",
        "        Company slogan: {self.company_slogan}.\n",
        "        Sales: {self.sales}.\n",
        "        Expenses: {self.expenses}.\n",
        "        Revenue: {self.revenue}\n",
        "        \"\"\")\n",
        "    \n",
        "  def update_sales_and_expenses(self, new_sales, new_expenses):\n",
        "    self.sales += new_sales\n",
        "    self.expenses += new_expenses\n",
        "    print(f\"Sales and expenses are updated\")\n",
        "\n",
        "  def calculate_revenue(self):\n",
        "    self.revenue = self.sales - self.expenses\n",
        "    print(f\"The revenue of the company is: {self.revenue}\")"
      ],
      "metadata": {
        "id": "kXCT6HxZx1WR"
      },
      "execution_count": 20,
      "outputs": []
    },
    {
      "cell_type": "code",
      "source": [
        "trading_company1 = Trading(\"TraCom\", 2005, \"Chong Wu\", \"We revolutionize trading\", 5000, 2000, 3000)"
      ],
      "metadata": {
        "id": "cl9mnbHyz8Dw"
      },
      "execution_count": 21,
      "outputs": []
    },
    {
      "cell_type": "code",
      "source": [
        "trading_company1.update_sales_and_expenses(100, 50)"
      ],
      "metadata": {
        "colab": {
          "base_uri": "https://localhost:8080/"
        },
        "id": "d8JowOLx1kUz",
        "outputId": "f0e8251e-c9d7-4eae-ee84-a3dd899c7804"
      },
      "execution_count": 22,
      "outputs": [
        {
          "output_type": "stream",
          "name": "stdout",
          "text": [
            "Sales and expenses are updated\n"
          ]
        }
      ]
    },
    {
      "cell_type": "code",
      "source": [
        "trading_company1.calculate_revenue()"
      ],
      "metadata": {
        "colab": {
          "base_uri": "https://localhost:8080/"
        },
        "id": "xxS0ceyC1vmc",
        "outputId": "9ac01a1f-0530-4490-dcd2-4ffacddf1bb9"
      },
      "execution_count": 23,
      "outputs": [
        {
          "output_type": "stream",
          "name": "stdout",
          "text": [
            "The revenue of the company is: 3050\n"
          ]
        }
      ]
    },
    {
      "cell_type": "code",
      "source": [
        "trading_company1.print_report()"
      ],
      "metadata": {
        "colab": {
          "base_uri": "https://localhost:8080/"
        },
        "id": "mF7G14yZ12ed",
        "outputId": "01499af1-8279-47f3-85b5-52054ca2938d"
      },
      "execution_count": 24,
      "outputs": [
        {
          "output_type": "stream",
          "name": "stdout",
          "text": [
            "The company TraCom was founded in 2005.\n",
            "        The founder of the company is Chong Wu.\n",
            "        Company slogan: We revolutionize trading.\n",
            "        Sales: 5100.\n",
            "        Expenses: 2050.\n",
            "        Revenue: 3050\n",
            "        \n"
          ]
        }
      ]
    }
  ]
}
